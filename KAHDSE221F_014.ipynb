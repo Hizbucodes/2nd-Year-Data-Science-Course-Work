{
  "nbformat": 4,
  "nbformat_minor": 0,
  "metadata": {
    "colab": {
      "provenance": [],
      "authorship_tag": "ABX9TyNtHQqyMeexFpBIST2nU0XJ",
      "include_colab_link": true
    },
    "kernelspec": {
      "name": "python3",
      "display_name": "Python 3"
    },
    "language_info": {
      "name": "python"
    }
  },
  "cells": [
    {
      "cell_type": "markdown",
      "metadata": {
        "id": "view-in-github",
        "colab_type": "text"
      },
      "source": [
        "<a href=\"https://colab.research.google.com/github/Hizbucodes/2nd-Year-Data-Science-Course-Work/blob/main/KAHDSE221F_014.ipynb\" target=\"_parent\"><img src=\"https://colab.research.google.com/assets/colab-badge.svg\" alt=\"Open In Colab\"/></a>"
      ]
    },
    {
      "cell_type": "markdown",
      "source": [
        "# 01) Loading the Dataset into pandas DataFrame"
      ],
      "metadata": {
        "id": "2P4_2i5PCRRi"
      }
    },
    {
      "cell_type": "code",
      "execution_count": null,
      "metadata": {
        "id": "WeNFXYeR_m_F"
      },
      "outputs": [],
      "source": [
        "import pandas as pd\n",
        "import matplotlib.pyplot as plt\n",
        "import seaborn as sns\n",
        "import numpy as np\n",
        "%matplotlib inline"
      ]
    },
    {
      "cell_type": "code",
      "source": [
        "breast_cancer_df = pd.read_excel('/content/breast_cancer (1).xlsx', header = 0)\n",
        "\n",
        "breast_cancer_df"
      ],
      "metadata": {
        "colab": {
          "base_uri": "https://localhost:8080/",
          "height": 423
        },
        "id": "PK5u0XmdCtRj",
        "outputId": "2f49bc3a-63ec-4acb-ef3a-d25a1d0b57f5"
      },
      "execution_count": null,
      "outputs": [
        {
          "output_type": "execute_result",
          "data": {
            "text/plain": [
              "     SubjectNo PatientID  Age  Weight  Height        Parity  NoOfChildren  \\\n",
              "0            1     CP_01   40   50.00    1.65       Parouse             2   \n",
              "1            2     CP_02   55   70.20    1.58       Parouse             3   \n",
              "2            3     CP_03   51   41.25    1.46       Parouse             2   \n",
              "3            4     CP_04   45   70.50    1.64       Parouse             1   \n",
              "4            5     CP_05   50   60.90    1.49       Parouse             3   \n",
              "..         ...       ...  ...     ...     ...           ...           ...   \n",
              "238        239     NW_42   65   70.00    1.50       Parouse             2   \n",
              "239        240     NW_43   55   56.00    1.52  Nulliparouse             0   \n",
              "240        241     NW_44   40   65.00    1.48       Parouse             2   \n",
              "241        242     NW_45   45   53.00    1.40       Parouse             3   \n",
              "242        243     NW_46   44   52.00    1.60       Parouse             2   \n",
              "\n",
              "    MenopausalStatus  AgeAtMenarche  AgeAtMenopause UseOfHRT FamilyHystory  \\\n",
              "0      Premenopausal             13             NaN       No            No   \n",
              "1     Postmenopausal             14            42.0       No            No   \n",
              "2      Premenopausal             14             NaN       No            No   \n",
              "3      Premenopausal             14             NaN       No            No   \n",
              "4      Premenopausal             12             NaN       No            No   \n",
              "..               ...            ...             ...      ...           ...   \n",
              "238   Postmenopausal             13            51.0       No            No   \n",
              "239   Postmenopausal             12            41.0       No            No   \n",
              "240   Postmenopausal             12            35.0       No            No   \n",
              "241    Premenopausal             12             NaN      Yes            No   \n",
              "242    Premenopausal             14             NaN      Yes            No   \n",
              "\n",
              "     Binary  \n",
              "0         0  \n",
              "1         0  \n",
              "2         1  \n",
              "3         1  \n",
              "4         0  \n",
              "..      ...  \n",
              "238       0  \n",
              "239       0  \n",
              "240       0  \n",
              "241       1  \n",
              "242       1  \n",
              "\n",
              "[243 rows x 13 columns]"
            ],
            "text/html": [
              "\n",
              "  <div id=\"df-5d8a22ab-e75c-464f-89bb-ca7169bfad41\" class=\"colab-df-container\">\n",
              "    <div>\n",
              "<style scoped>\n",
              "    .dataframe tbody tr th:only-of-type {\n",
              "        vertical-align: middle;\n",
              "    }\n",
              "\n",
              "    .dataframe tbody tr th {\n",
              "        vertical-align: top;\n",
              "    }\n",
              "\n",
              "    .dataframe thead th {\n",
              "        text-align: right;\n",
              "    }\n",
              "</style>\n",
              "<table border=\"1\" class=\"dataframe\">\n",
              "  <thead>\n",
              "    <tr style=\"text-align: right;\">\n",
              "      <th></th>\n",
              "      <th>SubjectNo</th>\n",
              "      <th>PatientID</th>\n",
              "      <th>Age</th>\n",
              "      <th>Weight</th>\n",
              "      <th>Height</th>\n",
              "      <th>Parity</th>\n",
              "      <th>NoOfChildren</th>\n",
              "      <th>MenopausalStatus</th>\n",
              "      <th>AgeAtMenarche</th>\n",
              "      <th>AgeAtMenopause</th>\n",
              "      <th>UseOfHRT</th>\n",
              "      <th>FamilyHystory</th>\n",
              "      <th>Binary</th>\n",
              "    </tr>\n",
              "  </thead>\n",
              "  <tbody>\n",
              "    <tr>\n",
              "      <th>0</th>\n",
              "      <td>1</td>\n",
              "      <td>CP_01</td>\n",
              "      <td>40</td>\n",
              "      <td>50.00</td>\n",
              "      <td>1.65</td>\n",
              "      <td>Parouse</td>\n",
              "      <td>2</td>\n",
              "      <td>Premenopausal</td>\n",
              "      <td>13</td>\n",
              "      <td>NaN</td>\n",
              "      <td>No</td>\n",
              "      <td>No</td>\n",
              "      <td>0</td>\n",
              "    </tr>\n",
              "    <tr>\n",
              "      <th>1</th>\n",
              "      <td>2</td>\n",
              "      <td>CP_02</td>\n",
              "      <td>55</td>\n",
              "      <td>70.20</td>\n",
              "      <td>1.58</td>\n",
              "      <td>Parouse</td>\n",
              "      <td>3</td>\n",
              "      <td>Postmenopausal</td>\n",
              "      <td>14</td>\n",
              "      <td>42.0</td>\n",
              "      <td>No</td>\n",
              "      <td>No</td>\n",
              "      <td>0</td>\n",
              "    </tr>\n",
              "    <tr>\n",
              "      <th>2</th>\n",
              "      <td>3</td>\n",
              "      <td>CP_03</td>\n",
              "      <td>51</td>\n",
              "      <td>41.25</td>\n",
              "      <td>1.46</td>\n",
              "      <td>Parouse</td>\n",
              "      <td>2</td>\n",
              "      <td>Premenopausal</td>\n",
              "      <td>14</td>\n",
              "      <td>NaN</td>\n",
              "      <td>No</td>\n",
              "      <td>No</td>\n",
              "      <td>1</td>\n",
              "    </tr>\n",
              "    <tr>\n",
              "      <th>3</th>\n",
              "      <td>4</td>\n",
              "      <td>CP_04</td>\n",
              "      <td>45</td>\n",
              "      <td>70.50</td>\n",
              "      <td>1.64</td>\n",
              "      <td>Parouse</td>\n",
              "      <td>1</td>\n",
              "      <td>Premenopausal</td>\n",
              "      <td>14</td>\n",
              "      <td>NaN</td>\n",
              "      <td>No</td>\n",
              "      <td>No</td>\n",
              "      <td>1</td>\n",
              "    </tr>\n",
              "    <tr>\n",
              "      <th>4</th>\n",
              "      <td>5</td>\n",
              "      <td>CP_05</td>\n",
              "      <td>50</td>\n",
              "      <td>60.90</td>\n",
              "      <td>1.49</td>\n",
              "      <td>Parouse</td>\n",
              "      <td>3</td>\n",
              "      <td>Premenopausal</td>\n",
              "      <td>12</td>\n",
              "      <td>NaN</td>\n",
              "      <td>No</td>\n",
              "      <td>No</td>\n",
              "      <td>0</td>\n",
              "    </tr>\n",
              "    <tr>\n",
              "      <th>...</th>\n",
              "      <td>...</td>\n",
              "      <td>...</td>\n",
              "      <td>...</td>\n",
              "      <td>...</td>\n",
              "      <td>...</td>\n",
              "      <td>...</td>\n",
              "      <td>...</td>\n",
              "      <td>...</td>\n",
              "      <td>...</td>\n",
              "      <td>...</td>\n",
              "      <td>...</td>\n",
              "      <td>...</td>\n",
              "      <td>...</td>\n",
              "    </tr>\n",
              "    <tr>\n",
              "      <th>238</th>\n",
              "      <td>239</td>\n",
              "      <td>NW_42</td>\n",
              "      <td>65</td>\n",
              "      <td>70.00</td>\n",
              "      <td>1.50</td>\n",
              "      <td>Parouse</td>\n",
              "      <td>2</td>\n",
              "      <td>Postmenopausal</td>\n",
              "      <td>13</td>\n",
              "      <td>51.0</td>\n",
              "      <td>No</td>\n",
              "      <td>No</td>\n",
              "      <td>0</td>\n",
              "    </tr>\n",
              "    <tr>\n",
              "      <th>239</th>\n",
              "      <td>240</td>\n",
              "      <td>NW_43</td>\n",
              "      <td>55</td>\n",
              "      <td>56.00</td>\n",
              "      <td>1.52</td>\n",
              "      <td>Nulliparouse</td>\n",
              "      <td>0</td>\n",
              "      <td>Postmenopausal</td>\n",
              "      <td>12</td>\n",
              "      <td>41.0</td>\n",
              "      <td>No</td>\n",
              "      <td>No</td>\n",
              "      <td>0</td>\n",
              "    </tr>\n",
              "    <tr>\n",
              "      <th>240</th>\n",
              "      <td>241</td>\n",
              "      <td>NW_44</td>\n",
              "      <td>40</td>\n",
              "      <td>65.00</td>\n",
              "      <td>1.48</td>\n",
              "      <td>Parouse</td>\n",
              "      <td>2</td>\n",
              "      <td>Postmenopausal</td>\n",
              "      <td>12</td>\n",
              "      <td>35.0</td>\n",
              "      <td>No</td>\n",
              "      <td>No</td>\n",
              "      <td>0</td>\n",
              "    </tr>\n",
              "    <tr>\n",
              "      <th>241</th>\n",
              "      <td>242</td>\n",
              "      <td>NW_45</td>\n",
              "      <td>45</td>\n",
              "      <td>53.00</td>\n",
              "      <td>1.40</td>\n",
              "      <td>Parouse</td>\n",
              "      <td>3</td>\n",
              "      <td>Premenopausal</td>\n",
              "      <td>12</td>\n",
              "      <td>NaN</td>\n",
              "      <td>Yes</td>\n",
              "      <td>No</td>\n",
              "      <td>1</td>\n",
              "    </tr>\n",
              "    <tr>\n",
              "      <th>242</th>\n",
              "      <td>243</td>\n",
              "      <td>NW_46</td>\n",
              "      <td>44</td>\n",
              "      <td>52.00</td>\n",
              "      <td>1.60</td>\n",
              "      <td>Parouse</td>\n",
              "      <td>2</td>\n",
              "      <td>Premenopausal</td>\n",
              "      <td>14</td>\n",
              "      <td>NaN</td>\n",
              "      <td>Yes</td>\n",
              "      <td>No</td>\n",
              "      <td>1</td>\n",
              "    </tr>\n",
              "  </tbody>\n",
              "</table>\n",
              "<p>243 rows × 13 columns</p>\n",
              "</div>\n",
              "    <div class=\"colab-df-buttons\">\n",
              "\n",
              "  <div class=\"colab-df-container\">\n",
              "    <button class=\"colab-df-convert\" onclick=\"convertToInteractive('df-5d8a22ab-e75c-464f-89bb-ca7169bfad41')\"\n",
              "            title=\"Convert this dataframe to an interactive table.\"\n",
              "            style=\"display:none;\">\n",
              "\n",
              "  <svg xmlns=\"http://www.w3.org/2000/svg\" height=\"24px\" viewBox=\"0 -960 960 960\">\n",
              "    <path d=\"M120-120v-720h720v720H120Zm60-500h600v-160H180v160Zm220 220h160v-160H400v160Zm0 220h160v-160H400v160ZM180-400h160v-160H180v160Zm440 0h160v-160H620v160ZM180-180h160v-160H180v160Zm440 0h160v-160H620v160Z\"/>\n",
              "  </svg>\n",
              "    </button>\n",
              "\n",
              "  <style>\n",
              "    .colab-df-container {\n",
              "      display:flex;\n",
              "      gap: 12px;\n",
              "    }\n",
              "\n",
              "    .colab-df-convert {\n",
              "      background-color: #E8F0FE;\n",
              "      border: none;\n",
              "      border-radius: 50%;\n",
              "      cursor: pointer;\n",
              "      display: none;\n",
              "      fill: #1967D2;\n",
              "      height: 32px;\n",
              "      padding: 0 0 0 0;\n",
              "      width: 32px;\n",
              "    }\n",
              "\n",
              "    .colab-df-convert:hover {\n",
              "      background-color: #E2EBFA;\n",
              "      box-shadow: 0px 1px 2px rgba(60, 64, 67, 0.3), 0px 1px 3px 1px rgba(60, 64, 67, 0.15);\n",
              "      fill: #174EA6;\n",
              "    }\n",
              "\n",
              "    .colab-df-buttons div {\n",
              "      margin-bottom: 4px;\n",
              "    }\n",
              "\n",
              "    [theme=dark] .colab-df-convert {\n",
              "      background-color: #3B4455;\n",
              "      fill: #D2E3FC;\n",
              "    }\n",
              "\n",
              "    [theme=dark] .colab-df-convert:hover {\n",
              "      background-color: #434B5C;\n",
              "      box-shadow: 0px 1px 3px 1px rgba(0, 0, 0, 0.15);\n",
              "      filter: drop-shadow(0px 1px 2px rgba(0, 0, 0, 0.3));\n",
              "      fill: #FFFFFF;\n",
              "    }\n",
              "  </style>\n",
              "\n",
              "    <script>\n",
              "      const buttonEl =\n",
              "        document.querySelector('#df-5d8a22ab-e75c-464f-89bb-ca7169bfad41 button.colab-df-convert');\n",
              "      buttonEl.style.display =\n",
              "        google.colab.kernel.accessAllowed ? 'block' : 'none';\n",
              "\n",
              "      async function convertToInteractive(key) {\n",
              "        const element = document.querySelector('#df-5d8a22ab-e75c-464f-89bb-ca7169bfad41');\n",
              "        const dataTable =\n",
              "          await google.colab.kernel.invokeFunction('convertToInteractive',\n",
              "                                                    [key], {});\n",
              "        if (!dataTable) return;\n",
              "\n",
              "        const docLinkHtml = 'Like what you see? Visit the ' +\n",
              "          '<a target=\"_blank\" href=https://colab.research.google.com/notebooks/data_table.ipynb>data table notebook</a>'\n",
              "          + ' to learn more about interactive tables.';\n",
              "        element.innerHTML = '';\n",
              "        dataTable['output_type'] = 'display_data';\n",
              "        await google.colab.output.renderOutput(dataTable, element);\n",
              "        const docLink = document.createElement('div');\n",
              "        docLink.innerHTML = docLinkHtml;\n",
              "        element.appendChild(docLink);\n",
              "      }\n",
              "    </script>\n",
              "  </div>\n",
              "\n",
              "\n",
              "<div id=\"df-8c81205f-6a2a-4aa0-aee7-5f2e800e0a7e\">\n",
              "  <button class=\"colab-df-quickchart\" onclick=\"quickchart('df-8c81205f-6a2a-4aa0-aee7-5f2e800e0a7e')\"\n",
              "            title=\"Suggest charts.\"\n",
              "            style=\"display:none;\">\n",
              "\n",
              "<svg xmlns=\"http://www.w3.org/2000/svg\" height=\"24px\"viewBox=\"0 0 24 24\"\n",
              "     width=\"24px\">\n",
              "    <g>\n",
              "        <path d=\"M19 3H5c-1.1 0-2 .9-2 2v14c0 1.1.9 2 2 2h14c1.1 0 2-.9 2-2V5c0-1.1-.9-2-2-2zM9 17H7v-7h2v7zm4 0h-2V7h2v10zm4 0h-2v-4h2v4z\"/>\n",
              "    </g>\n",
              "</svg>\n",
              "  </button>\n",
              "\n",
              "<style>\n",
              "  .colab-df-quickchart {\n",
              "      --bg-color: #E8F0FE;\n",
              "      --fill-color: #1967D2;\n",
              "      --hover-bg-color: #E2EBFA;\n",
              "      --hover-fill-color: #174EA6;\n",
              "      --disabled-fill-color: #AAA;\n",
              "      --disabled-bg-color: #DDD;\n",
              "  }\n",
              "\n",
              "  [theme=dark] .colab-df-quickchart {\n",
              "      --bg-color: #3B4455;\n",
              "      --fill-color: #D2E3FC;\n",
              "      --hover-bg-color: #434B5C;\n",
              "      --hover-fill-color: #FFFFFF;\n",
              "      --disabled-bg-color: #3B4455;\n",
              "      --disabled-fill-color: #666;\n",
              "  }\n",
              "\n",
              "  .colab-df-quickchart {\n",
              "    background-color: var(--bg-color);\n",
              "    border: none;\n",
              "    border-radius: 50%;\n",
              "    cursor: pointer;\n",
              "    display: none;\n",
              "    fill: var(--fill-color);\n",
              "    height: 32px;\n",
              "    padding: 0;\n",
              "    width: 32px;\n",
              "  }\n",
              "\n",
              "  .colab-df-quickchart:hover {\n",
              "    background-color: var(--hover-bg-color);\n",
              "    box-shadow: 0 1px 2px rgba(60, 64, 67, 0.3), 0 1px 3px 1px rgba(60, 64, 67, 0.15);\n",
              "    fill: var(--button-hover-fill-color);\n",
              "  }\n",
              "\n",
              "  .colab-df-quickchart-complete:disabled,\n",
              "  .colab-df-quickchart-complete:disabled:hover {\n",
              "    background-color: var(--disabled-bg-color);\n",
              "    fill: var(--disabled-fill-color);\n",
              "    box-shadow: none;\n",
              "  }\n",
              "\n",
              "  .colab-df-spinner {\n",
              "    border: 2px solid var(--fill-color);\n",
              "    border-color: transparent;\n",
              "    border-bottom-color: var(--fill-color);\n",
              "    animation:\n",
              "      spin 1s steps(1) infinite;\n",
              "  }\n",
              "\n",
              "  @keyframes spin {\n",
              "    0% {\n",
              "      border-color: transparent;\n",
              "      border-bottom-color: var(--fill-color);\n",
              "      border-left-color: var(--fill-color);\n",
              "    }\n",
              "    20% {\n",
              "      border-color: transparent;\n",
              "      border-left-color: var(--fill-color);\n",
              "      border-top-color: var(--fill-color);\n",
              "    }\n",
              "    30% {\n",
              "      border-color: transparent;\n",
              "      border-left-color: var(--fill-color);\n",
              "      border-top-color: var(--fill-color);\n",
              "      border-right-color: var(--fill-color);\n",
              "    }\n",
              "    40% {\n",
              "      border-color: transparent;\n",
              "      border-right-color: var(--fill-color);\n",
              "      border-top-color: var(--fill-color);\n",
              "    }\n",
              "    60% {\n",
              "      border-color: transparent;\n",
              "      border-right-color: var(--fill-color);\n",
              "    }\n",
              "    80% {\n",
              "      border-color: transparent;\n",
              "      border-right-color: var(--fill-color);\n",
              "      border-bottom-color: var(--fill-color);\n",
              "    }\n",
              "    90% {\n",
              "      border-color: transparent;\n",
              "      border-bottom-color: var(--fill-color);\n",
              "    }\n",
              "  }\n",
              "</style>\n",
              "\n",
              "  <script>\n",
              "    async function quickchart(key) {\n",
              "      const quickchartButtonEl =\n",
              "        document.querySelector('#' + key + ' button');\n",
              "      quickchartButtonEl.disabled = true;  // To prevent multiple clicks.\n",
              "      quickchartButtonEl.classList.add('colab-df-spinner');\n",
              "      try {\n",
              "        const charts = await google.colab.kernel.invokeFunction(\n",
              "            'suggestCharts', [key], {});\n",
              "      } catch (error) {\n",
              "        console.error('Error during call to suggestCharts:', error);\n",
              "      }\n",
              "      quickchartButtonEl.classList.remove('colab-df-spinner');\n",
              "      quickchartButtonEl.classList.add('colab-df-quickchart-complete');\n",
              "    }\n",
              "    (() => {\n",
              "      let quickchartButtonEl =\n",
              "        document.querySelector('#df-8c81205f-6a2a-4aa0-aee7-5f2e800e0a7e button');\n",
              "      quickchartButtonEl.style.display =\n",
              "        google.colab.kernel.accessAllowed ? 'block' : 'none';\n",
              "    })();\n",
              "  </script>\n",
              "</div>\n",
              "    </div>\n",
              "  </div>\n"
            ]
          },
          "metadata": {},
          "execution_count": 2
        }
      ]
    },
    {
      "cell_type": "markdown",
      "source": [
        "# 02) Preprocess data considering you are going for a machine Learning-based classification."
      ],
      "metadata": {
        "id": "o0tXHDIODAQz"
      }
    },
    {
      "cell_type": "code",
      "source": [
        "breast_cancer_df.isnull().sum()"
      ],
      "metadata": {
        "colab": {
          "base_uri": "https://localhost:8080/"
        },
        "id": "Lh54hYv0DJ7-",
        "outputId": "d7fb913d-c55e-4d64-cb98-f23d64009531"
      },
      "execution_count": null,
      "outputs": [
        {
          "output_type": "execute_result",
          "data": {
            "text/plain": [
              "SubjectNo             0\n",
              "PatientID             0\n",
              "Age                   0\n",
              "Weight                0\n",
              "Height                0\n",
              "Parity                0\n",
              "NoOfChildren          0\n",
              "MenopausalStatus      0\n",
              "AgeAtMenarche         0\n",
              "AgeAtMenopause      114\n",
              "UseOfHRT              0\n",
              "FamilyHystory         0\n",
              "Binary                0\n",
              "dtype: int64"
            ]
          },
          "metadata": {},
          "execution_count": 3
        }
      ]
    },
    {
      "cell_type": "code",
      "source": [
        "breast_cancer_df['AgeAtMenopause'].fillna(breast_cancer_df['AgeAtMenopause'].median(), inplace=True)"
      ],
      "metadata": {
        "id": "OOgwv2pFDSc6"
      },
      "execution_count": null,
      "outputs": []
    },
    {
      "cell_type": "code",
      "source": [
        "breast_cancer_df.isnull().sum()"
      ],
      "metadata": {
        "colab": {
          "base_uri": "https://localhost:8080/"
        },
        "id": "9ewNjteyDfGF",
        "outputId": "076b0702-779d-43e5-8213-05f10580e2b5"
      },
      "execution_count": null,
      "outputs": [
        {
          "output_type": "execute_result",
          "data": {
            "text/plain": [
              "SubjectNo           0\n",
              "PatientID           0\n",
              "Age                 0\n",
              "Weight              0\n",
              "Height              0\n",
              "Parity              0\n",
              "NoOfChildren        0\n",
              "MenopausalStatus    0\n",
              "AgeAtMenarche       0\n",
              "AgeAtMenopause      0\n",
              "UseOfHRT            0\n",
              "FamilyHystory       0\n",
              "Binary              0\n",
              "dtype: int64"
            ]
          },
          "metadata": {},
          "execution_count": 5
        }
      ]
    },
    {
      "cell_type": "code",
      "source": [
        "sns.heatmap(breast_cancer_df.isnull(),yticklabels=False,cmap='viridis')"
      ],
      "metadata": {
        "colab": {
          "base_uri": "https://localhost:8080/",
          "height": 566
        },
        "id": "xSRh2wMQDlfa",
        "outputId": "808784de-3d51-4d1e-a2f6-2f0de8b11868"
      },
      "execution_count": null,
      "outputs": [
        {
          "output_type": "execute_result",
          "data": {
            "text/plain": [
              "<Axes: >"
            ]
          },
          "metadata": {},
          "execution_count": 6
        },
        {
          "output_type": "display_data",
          "data": {
            "text/plain": [
              "<Figure size 640x480 with 2 Axes>"
            ],
            "image/png": "[encoded data removed]"
          },
          "metadata": {}
        }
      ]
    },
    {
      "cell_type": "code",
      "source": [
        "breast_cancer_df['MenopausalStatus'].unique()"
      ],
      "metadata": {
        "colab": {
          "base_uri": "https://localhost:8080/"
        },
        "id": "hZIfw7ZvDs9E",
        "outputId": "3f4d5106-e525-4854-a91e-24ffa1ffa88d"
      },
      "execution_count": null,
      "outputs": [
        {
          "output_type": "execute_result",
          "data": {
            "text/plain": [
              "array(['Premenopausal', 'Postmenopausal'], dtype=object)"
            ]
          },
          "metadata": {},
          "execution_count": 7
        }
      ]
    },
    {
      "cell_type": "code",
      "source": [
        "breast_cancer_df['FamilyHystory'].unique()"
      ],
      "metadata": {
        "colab": {
          "base_uri": "https://localhost:8080/"
        },
        "id": "0rZeoUO9Dzsz",
        "outputId": "03386508-544a-41d4-bfda-1fc9f16f8cb8"
      },
      "execution_count": null,
      "outputs": [
        {
          "output_type": "execute_result",
          "data": {
            "text/plain": [
              "array(['No', 'Yes'], dtype=object)"
            ]
          },
          "metadata": {},
          "execution_count": 8
        }
      ]
    },
    {
      "cell_type": "code",
      "source": [
        "breast_cancer_df['UseOfHRT'].unique()"
      ],
      "metadata": {
        "colab": {
          "base_uri": "https://localhost:8080/"
        },
        "id": "kgMHh0qSD5lF",
        "outputId": "5ebdfddd-50ec-418a-c4fe-6cf25a076d68"
      },
      "execution_count": null,
      "outputs": [
        {
          "output_type": "execute_result",
          "data": {
            "text/plain": [
              "array(['No', 'Yes'], dtype=object)"
            ]
          },
          "metadata": {},
          "execution_count": 9
        }
      ]
    },
    {
      "cell_type": "code",
      "source": [
        "breast_cancer_df = pd.get_dummies(breast_cancer_df, columns=['MenopausalStatus'], drop_first=True)\n",
        "breast_cancer_df = pd.get_dummies(breast_cancer_df, columns=['Parity'], drop_first=True)\n",
        "breast_cancer_df = pd.get_dummies(breast_cancer_df, columns=['UseOfHRT'], drop_first=True)\n",
        "breast_cancer_df = pd.get_dummies(breast_cancer_df, columns=['FamilyHystory'], drop_first=True)"
      ],
      "metadata": {
        "id": "Ehj20j-iD8id"
      },
      "execution_count": null,
      "outputs": []
    },
    {
      "cell_type": "code",
      "source": [
        "breast_cancer_df.drop(['SubjectNo'],axis=1,inplace=True)"
      ],
      "metadata": {
        "id": "Y2FdebMKEHw0"
      },
      "execution_count": null,
      "outputs": []
    },
    {
      "cell_type": "code",
      "source": [
        "breast_cancer_df.count()"
      ],
      "metadata": {
        "colab": {
          "base_uri": "https://localhost:8080/"
        },
        "id": "JX8BumK0EMJm",
        "outputId": "6637a207-b208-4e02-cea0-cd6335b91586"
      },
      "execution_count": null,
      "outputs": [
        {
          "output_type": "execute_result",
          "data": {
            "text/plain": [
              "PatientID                         243\n",
              "Age                               243\n",
              "Weight                            243\n",
              "Height                            243\n",
              "NoOfChildren                      243\n",
              "AgeAtMenarche                     243\n",
              "AgeAtMenopause                    243\n",
              "Binary                            243\n",
              "MenopausalStatus_Premenopausal    243\n",
              "Parity_Parouse                    243\n",
              "UseOfHRT_Yes                      243\n",
              "FamilyHystory_Yes                 243\n",
              "dtype: int64"
            ]
          },
          "metadata": {},
          "execution_count": 12
        }
      ]
    },
    {
      "cell_type": "markdown",
      "source": [
        "# 03) Conduct a comprehensive EDA."
      ],
      "metadata": {
        "id": "xsfI-OUHESEA"
      }
    },
    {
      "cell_type": "code",
      "source": [
        "breast_cancer_df.info()"
      ],
      "metadata": {
        "colab": {
          "base_uri": "https://localhost:8080/"
        },
        "id": "iqn9aWr_EXyj",
        "outputId": "0ff4744d-f083-4237-ec24-166a436635fb"
      },
      "execution_count": null,
      "outputs": [
        {
          "output_type": "stream",
          "name": "stdout",
          "text": [
            "<class 'pandas.core.frame.DataFrame'>\n",
            "RangeIndex: 243 entries, 0 to 242\n",
            "Data columns (total 12 columns):\n",
            " #   Column                          Non-Null Count  Dtype  \n",
            "---  ------                          --------------  -----  \n",
            " 0   PatientID                       243 non-null    object \n",
            " 1   Age                             243 non-null    int64  \n",
            " 2   Weight                          243 non-null    float64\n",
            " 3   Height                          243 non-null    float64\n",
            " 4   NoOfChildren                    243 non-null    int64  \n",
            " 5   AgeAtMenarche                   243 non-null    int64  \n",
            " 6   AgeAtMenopause                  243 non-null    float64\n",
            " 7   Binary                          243 non-null    int64  \n",
            " 8   MenopausalStatus_Premenopausal  243 non-null    uint8  \n",
            " 9   Parity_Parouse                  243 non-null    uint8  \n",
            " 10  UseOfHRT_Yes                    243 non-null    uint8  \n",
            " 11  FamilyHystory_Yes               243 non-null    uint8  \n",
            "dtypes: float64(3), int64(4), object(1), uint8(4)\n",
            "memory usage: 16.3+ KB\n"
          ]
        }
      ]
    },
    {
      "cell_type": "code",
      "source": [
        "breast_cancer_df.describe()"
      ],
      "metadata": {
        "colab": {
          "base_uri": "https://localhost:8080/",
          "height": 300
        },
        "id": "08zjXIBOEdcU",
        "outputId": "41e56f1a-5a59-4b6f-a3f2-eda1dc06137d"
      },
      "execution_count": null,
      "outputs": [
        {
          "output_type": "execute_result",
          "data": {
            "text/plain": [
              "              Age      Weight      Height  NoOfChildren  AgeAtMenarche  \\\n",
              "count  243.000000  243.000000  243.000000    243.000000     243.000000   \n",
              "mean    51.584362   61.865144    1.541564      2.205761      13.456790   \n",
              "std      8.928324   11.042376    0.082722      1.142189       1.502472   \n",
              "min     35.000000   32.550000    1.220000      0.000000      10.000000   \n",
              "25%     45.000000   53.875000    1.495000      2.000000      12.000000   \n",
              "50%     51.000000   61.000000    1.530000      2.000000      13.000000   \n",
              "75%     58.000000   69.035000    1.580000      3.000000      14.000000   \n",
              "max     78.000000  106.000000    1.990000      6.000000      18.000000   \n",
              "\n",
              "       AgeAtMenopause      Binary  MenopausalStatus_Premenopausal  \\\n",
              "count      243.000000  243.000000                      243.000000   \n",
              "mean        48.572016    0.185185                        0.473251   \n",
              "std          3.291292    0.389249                        0.500314   \n",
              "min         35.000000    0.000000                        0.000000   \n",
              "25%         48.500000    0.000000                        0.000000   \n",
              "50%         49.000000    0.000000                        0.000000   \n",
              "75%         49.000000    0.000000                        1.000000   \n",
              "max         57.000000    1.000000                        1.000000   \n",
              "\n",
              "       Parity_Parouse  UseOfHRT_Yes  FamilyHystory_Yes  \n",
              "count      243.000000    243.000000         243.000000  \n",
              "mean         0.913580      0.086420           0.156379  \n",
              "std          0.281563      0.281563           0.363964  \n",
              "min          0.000000      0.000000           0.000000  \n",
              "25%          1.000000      0.000000           0.000000  \n",
              "50%          1.000000      0.000000           0.000000  \n",
              "75%          1.000000      0.000000           0.000000  \n",
              "max          1.000000      1.000000           1.000000  "
            ],
            "text/html": [
              "\n",
              "  <div id=\"df-48cef456-8a96-492a-a799-d87dc2f147cb\" class=\"colab-df-container\">\n",
              "    <div>\n",
              "<style scoped>\n",
              "    .dataframe tbody tr th:only-of-type {\n",
              "        vertical-align: middle;\n",
              "    }\n",
              "\n",
              "    .dataframe tbody tr th {\n",
              "        vertical-align: top;\n",
              "    }\n",
              "\n",
              "    .dataframe thead th {\n",
              "        text-align: right;\n",
              "    }\n",
              "</style>\n",
              "<table border=\"1\" class=\"dataframe\">\n",
              "  <thead>\n",
              "    <tr style=\"text-align: right;\">\n",
              "      <th></th>\n",
              "      <th>Age</th>\n",
              "      <th>Weight</th>\n",
              "      <th>Height</th>\n",
              "      <th>NoOfChildren</th>\n",
              "      <th>AgeAtMenarche</th>\n",
              "      <th>AgeAtMenopause</th>\n",
              "      <th>Binary</th>\n",
              "      <th>MenopausalStatus_Premenopausal</th>\n",
              "      <th>Parity_Parouse</th>\n",
              "      <th>UseOfHRT_Yes</th>\n",
              "      <th>FamilyHystory_Yes</th>\n",
              "    </tr>\n",
              "  </thead>\n",
              "  <tbody>\n",
              "    <tr>\n",
              "      <th>count</th>\n",
              "      <td>243.000000</td>\n",
              "      <td>243.000000</td>\n",
              "      <td>243.000000</td>\n",
              "      <td>243.000000</td>\n",
              "      <td>243.000000</td>\n",
              "      <td>243.000000</td>\n",
              "      <td>243.000000</td>\n",
              "      <td>243.000000</td>\n",
              "      <td>243.000000</td>\n",
              "      <td>243.000000</td>\n",
              "      <td>243.000000</td>\n",
              "    </tr>\n",
              "    <tr>\n",
              "      <th>mean</th>\n",
              "      <td>51.584362</td>\n",
              "      <td>61.865144</td>\n",
              "      <td>1.541564</td>\n",
              "      <td>2.205761</td>\n",
              "      <td>13.456790</td>\n",
              "      <td>48.572016</td>\n",
              "      <td>0.185185</td>\n",
              "      <td>0.473251</td>\n",
              "      <td>0.913580</td>\n",
              "      <td>0.086420</td>\n",
              "      <td>0.156379</td>\n",
              "    </tr>\n",
              "    <tr>\n",
              "      <th>std</th>\n",
              "      <td>8.928324</td>\n",
              "      <td>11.042376</td>\n",
              "      <td>0.082722</td>\n",
              "      <td>1.142189</td>\n",
              "      <td>1.502472</td>\n",
              "      <td>3.291292</td>\n",
              "      <td>0.389249</td>\n",
              "      <td>0.500314</td>\n",
              "      <td>0.281563</td>\n",
              "      <td>0.281563</td>\n",
              "      <td>0.363964</td>\n",
              "    </tr>\n",
              "    <tr>\n",
              "      <th>min</th>\n",
              "      <td>35.000000</td>\n",
              "      <td>32.550000</td>\n",
              "      <td>1.220000</td>\n",
              "      <td>0.000000</td>\n",
              "      <td>10.000000</td>\n",
              "      <td>35.000000</td>\n",
              "      <td>0.000000</td>\n",
              "      <td>0.000000</td>\n",
              "      <td>0.000000</td>\n",
              "      <td>0.000000</td>\n",
              "      <td>0.000000</td>\n",
              "    </tr>\n",
              "    <tr>\n",
              "      <th>25%</th>\n",
              "      <td>45.000000</td>\n",
              "      <td>53.875000</td>\n",
              "      <td>1.495000</td>\n",
              "      <td>2.000000</td>\n",
              "      <td>12.000000</td>\n",
              "      <td>48.500000</td>\n",
              "      <td>0.000000</td>\n",
              "      <td>0.000000</td>\n",
              "      <td>1.000000</td>\n",
              "      <td>0.000000</td>\n",
              "      <td>0.000000</td>\n",
              "    </tr>\n",
              "    <tr>\n",
              "      <th>50%</th>\n",
              "      <td>51.000000</td>\n",
              "      <td>61.000000</td>\n",
              "      <td>1.530000</td>\n",
              "      <td>2.000000</td>\n",
              "      <td>13.000000</td>\n",
              "      <td>49.000000</td>\n",
              "      <td>0.000000</td>\n",
              "      <td>0.000000</td>\n",
              "      <td>1.000000</td>\n",
              "      <td>0.000000</td>\n",
              "      <td>0.000000</td>\n",
              "    </tr>\n",
              "    <tr>\n",
              "      <th>75%</th>\n",
              "      <td>58.000000</td>\n",
              "      <td>69.035000</td>\n",
              "      <td>1.580000</td>\n",
              "      <td>3.000000</td>\n",
              "      <td>14.000000</td>\n",
              "      <td>49.000000</td>\n",
              "      <td>0.000000</td>\n",
              "      <td>1.000000</td>\n",
              "      <td>1.000000</td>\n",
              "      <td>0.000000</td>\n",
              "      <td>0.000000</td>\n",
              "    </tr>\n",
              "    <tr>\n",
              "      <th>max</th>\n",
              "      <td>78.000000</td>\n",
              "      <td>106.000000</td>\n",
              "      <td>1.990000</td>\n",
              "      <td>6.000000</td>\n",
              "      <td>18.000000</td>\n",
              "      <td>57.000000</td>\n",
              "      <td>1.000000</td>\n",
              "      <td>1.000000</td>\n",
              "      <td>1.000000</td>\n",
              "      <td>1.000000</td>\n",
              "      <td>1.000000</td>\n",
              "    </tr>\n",
              "  </tbody>\n",
              "</table>\n",
              "</div>\n",
              "    <div class=\"colab-df-buttons\">\n",
              "\n",
              "  <div class=\"colab-df-container\">\n",
              "    <button class=\"colab-df-convert\" onclick=\"convertToInteractive('df-48cef456-8a96-492a-a799-d87dc2f147cb')\"\n",
              "            title=\"Convert this dataframe to an interactive table.\"\n",
              "            style=\"display:none;\">\n",
              "\n",
              "  <svg xmlns=\"http://www.w3.org/2000/svg\" height=\"24px\" viewBox=\"0 -960 960 960\">\n",
              "    <path d=\"M120-120v-720h720v720H120Zm60-500h600v-160H180v160Zm220 220h160v-160H400v160Zm0 220h160v-160H400v160ZM180-400h160v-160H180v160Zm440 0h160v-160H620v160ZM180-180h160v-160H180v160Zm440 0h160v-160H620v160Z\"/>\n",
              "  </svg>\n",
              "    </button>\n",
              "\n",
              "  <style>\n",
              "    .colab-df-container {\n",
              "      display:flex;\n",
              "      gap: 12px;\n",
              "    }\n",
              "\n",
              "    .colab-df-convert {\n",
              "      background-color: #E8F0FE;\n",
              "      border: none;\n",
              "      border-radius: 50%;\n",
              "      cursor: pointer;\n",
              "      display: none;\n",
              "      fill: #1967D2;\n",
              "      height: 32px;\n",
              "      padding: 0 0 0 0;\n",
              "      width: 32px;\n",
              "    }\n",
              "\n",
              "    .colab-df-convert:hover {\n",
              "      background-color: #E2EBFA;\n",
              "      box-shadow: 0px 1px 2px rgba(60, 64, 67, 0.3), 0px 1px 3px 1px rgba(60, 64, 67, 0.15);\n",
              "      fill: #174EA6;\n",
              "    }\n",
              "\n",
              "    .colab-df-buttons div {\n",
              "      margin-bottom: 4px;\n",
              "    }\n",
              "\n",
              "    [theme=dark] .colab-df-convert {\n",
              "      background-color: #3B4455;\n",
              "      fill: #D2E3FC;\n",
              "    }\n",
              "\n",
              "    [theme=dark] .colab-df-convert:hover {\n",
              "      background-color: #434B5C;\n",
              "      box-shadow: 0px 1px 3px 1px rgba(0, 0, 0, 0.15);\n",
              "      filter: drop-shadow(0px 1px 2px rgba(0, 0, 0, 0.3));\n",
              "      fill: #FFFFFF;\n",
              "    }\n",
              "  </style>\n",
              "\n",
              "    <script>\n",
              "      const buttonEl =\n",
              "        document.querySelector('#df-48cef456-8a96-492a-a799-d87dc2f147cb button.colab-df-convert');\n",
              "      buttonEl.style.display =\n",
              "        google.colab.kernel.accessAllowed ? 'block' : 'none';\n",
              "\n",
              "      async function convertToInteractive(key) {\n",
              "        const element = document.querySelector('#df-48cef456-8a96-492a-a799-d87dc2f147cb');\n",
              "        const dataTable =\n",
              "          await google.colab.kernel.invokeFunction('convertToInteractive',\n",
              "                                                    [key], {});\n",
              "        if (!dataTable) return;\n",
              "\n",
              "        const docLinkHtml = 'Like what you see? Visit the ' +\n",
              "          '<a target=\"_blank\" href=https://colab.research.google.com/notebooks/data_table.ipynb>data table notebook</a>'\n",
              "          + ' to learn more about interactive tables.';\n",
              "        element.innerHTML = '';\n",
              "        dataTable['output_type'] = 'display_data';\n",
              "        await google.colab.output.renderOutput(dataTable, element);\n",
              "        const docLink = document.createElement('div');\n",
              "        docLink.innerHTML = docLinkHtml;\n",
              "        element.appendChild(docLink);\n",
              "      }\n",
              "    </script>\n",
              "  </div>\n",
              "\n",
              "\n",
              "<div id=\"df-ec6d4ba5-d335-4f7e-bc86-87024bbb4e88\">\n",
              "  <button class=\"colab-df-quickchart\" onclick=\"quickchart('df-ec6d4ba5-d335-4f7e-bc86-87024bbb4e88')\"\n",
              "            title=\"Suggest charts.\"\n",
              "            style=\"display:none;\">\n",
              "\n",
              "<svg xmlns=\"http://www.w3.org/2000/svg\" height=\"24px\"viewBox=\"0 0 24 24\"\n",
              "     width=\"24px\">\n",
              "    <g>\n",
              "        <path d=\"M19 3H5c-1.1 0-2 .9-2 2v14c0 1.1.9 2 2 2h14c1.1 0 2-.9 2-2V5c0-1.1-.9-2-2-2zM9 17H7v-7h2v7zm4 0h-2V7h2v10zm4 0h-2v-4h2v4z\"/>\n",
              "    </g>\n",
              "</svg>\n",
              "  </button>\n",
              "\n",
              "<style>\n",
              "  .colab-df-quickchart {\n",
              "      --bg-color: #E8F0FE;\n",
              "      --fill-color: #1967D2;\n",
              "      --hover-bg-color: #E2EBFA;\n",
              "      --hover-fill-color: #174EA6;\n",
              "      --disabled-fill-color: #AAA;\n",
              "      --disabled-bg-color: #DDD;\n",
              "  }\n",
              "\n",
              "  [theme=dark] .colab-df-quickchart {\n",
              "      --bg-color: #3B4455;\n",
              "      --fill-color: #D2E3FC;\n",
              "      --hover-bg-color: #434B5C;\n",
              "      --hover-fill-color: #FFFFFF;\n",
              "      --disabled-bg-color: #3B4455;\n",
              "      --disabled-fill-color: #666;\n",
              "  }\n",
              "\n",
              "  .colab-df-quickchart {\n",
              "    background-color: var(--bg-color);\n",
              "    border: none;\n",
              "    border-radius: 50%;\n",
              "    cursor: pointer;\n",
              "    display: none;\n",
              "    fill: var(--fill-color);\n",
              "    height: 32px;\n",
              "    padding: 0;\n",
              "    width: 32px;\n",
              "  }\n",
              "\n",
              "  .colab-df-quickchart:hover {\n",
              "    background-color: var(--hover-bg-color);\n",
              "    box-shadow: 0 1px 2px rgba(60, 64, 67, 0.3), 0 1px 3px 1px rgba(60, 64, 67, 0.15);\n",
              "    fill: var(--button-hover-fill-color);\n",
              "  }\n",
              "\n",
              "  .colab-df-quickchart-complete:disabled,\n",
              "  .colab-df-quickchart-complete:disabled:hover {\n",
              "    background-color: var(--disabled-bg-color);\n",
              "    fill: var(--disabled-fill-color);\n",
              "    box-shadow: none;\n",
              "  }\n",
              "\n",
              "  .colab-df-spinner {\n",
              "    border: 2px solid var(--fill-color);\n",
              "    border-color: transparent;\n",
              "    border-bottom-color: var(--fill-color);\n",
              "    animation:\n",
              "      spin 1s steps(1) infinite;\n",
              "  }\n",
              "\n",
              "  @keyframes spin {\n",
              "    0% {\n",
              "      border-color: transparent;\n",
              "      border-bottom-color: var(--fill-color);\n",
              "      border-left-color: var(--fill-color);\n",
              "    }\n",
              "    20% {\n",
              "      border-color: transparent;\n",
              "      border-left-color: var(--fill-color);\n",
              "      border-top-color: var(--fill-color);\n",
              "    }\n",
              "    30% {\n",
              "      border-color: transparent;\n",
              "      border-left-color: var(--fill-color);\n",
              "      border-top-color: var(--fill-color);\n",
              "      border-right-color: var(--fill-color);\n",
              "    }\n",
              "    40% {\n",
              "      border-color: transparent;\n",
              "      border-right-color: var(--fill-color);\n",
              "      border-top-color: var(--fill-color);\n",
              "    }\n",
              "    60% {\n",
              "      border-color: transparent;\n",
              "      border-right-color: var(--fill-color);\n",
              "    }\n",
              "    80% {\n",
              "      border-color: transparent;\n",
              "      border-right-color: var(--fill-color);\n",
              "      border-bottom-color: var(--fill-color);\n",
              "    }\n",
              "    90% {\n",
              "      border-color: transparent;\n",
              "      border-bottom-color: var(--fill-color);\n",
              "    }\n",
              "  }\n",
              "</style>\n",
              "\n",
              "  <script>\n",
              "    async function quickchart(key) {\n",
              "      const quickchartButtonEl =\n",
              "        document.querySelector('#' + key + ' button');\n",
              "      quickchartButtonEl.disabled = true;  // To prevent multiple clicks.\n",
              "      quickchartButtonEl.classList.add('colab-df-spinner');\n",
              "      try {\n",
              "        const charts = await google.colab.kernel.invokeFunction(\n",
              "            'suggestCharts', [key], {});\n",
              "      } catch (error) {\n",
              "        console.error('Error during call to suggestCharts:', error);\n",
              "      }\n",
              "      quickchartButtonEl.classList.remove('colab-df-spinner');\n",
              "      quickchartButtonEl.classList.add('colab-df-quickchart-complete');\n",
              "    }\n",
              "    (() => {\n",
              "      let quickchartButtonEl =\n",
              "        document.querySelector('#df-ec6d4ba5-d335-4f7e-bc86-87024bbb4e88 button');\n",
              "      quickchartButtonEl.style.display =\n",
              "        google.colab.kernel.accessAllowed ? 'block' : 'none';\n",
              "    })();\n",
              "  </script>\n",
              "</div>\n",
              "    </div>\n",
              "  </div>\n"
            ]
          },
          "metadata": {},
          "execution_count": 14
        }
      ]
    },
    {
      "cell_type": "code",
      "source": [
        "breast_cancer_df.hist(bins = 30, figsize = (20, 10))"
      ],
      "metadata": {
        "colab": {
          "base_uri": "https://localhost:8080/",
          "height": 961
        },
        "id": "zQ07gk4yEiHC",
        "outputId": "8486d086-4b96-4e80-d6ea-7bc2295755d1"
      },
      "execution_count": null,
      "outputs": [
        {
          "output_type": "execute_result",
          "data": {
            "text/plain": [
              "array([[<Axes: title={'center': 'Age'}>,\n",
              "        <Axes: title={'center': 'Weight'}>,\n",
              "        <Axes: title={'center': 'Height'}>],\n",
              "       [<Axes: title={'center': 'NoOfChildren'}>,\n",
              "        <Axes: title={'center': 'AgeAtMenarche'}>,\n",
              "        <Axes: title={'center': 'AgeAtMenopause'}>],\n",
              "       [<Axes: title={'center': 'Binary'}>,\n",
              "        <Axes: title={'center': 'MenopausalStatus_Premenopausal'}>,\n",
              "        <Axes: title={'center': 'Parity_Parouse'}>],\n",
              "       [<Axes: title={'center': 'UseOfHRT_Yes'}>,\n",
              "        <Axes: title={'center': 'FamilyHystory_Yes'}>, <Axes: >]],\n",
              "      dtype=object)"
            ]
          },
          "metadata": {},
          "execution_count": 15
        },
        {
          "output_type": "display_data",
          "data": {
            "text/plain": [
              "<Figure size 2000x1000 with 12 Axes>"
            ],
            "image/png": "[encoded data removed]"
          },
          "metadata": {}
        }
      ]
    },
    {
      "cell_type": "code",
      "source": [
        "column_name = ['Age', 'Weight', 'Height', 'NoOfChildren', 'AgeAtMenarche', 'AgeAtMenopause']"
      ],
      "metadata": {
        "id": "Zzt2R1isEr3o"
      },
      "execution_count": null,
      "outputs": []
    },
    {
      "cell_type": "code",
      "source": [
        "for feature in column_name:\n",
        "    plt.figure(figsize=(4, 2))\n",
        "    sns.boxplot(data=breast_cancer_df, x='Binary', y=feature)\n",
        "    plt.title(f'{feature} vs. Binary')\n",
        "    plt.show()"
      ],
      "metadata": {
        "colab": {
          "base_uri": "https://localhost:8080/",
          "height": 1000
        },
        "id": "acc5bJggEzZu",
        "outputId": "f02ff0a6-0cb9-4f23-deb7-14db51036a43"
      },
      "execution_count": null,
      "outputs": [
        {
          "output_type": "display_data",
          "data": {
            "text/plain": [
              "<Figure size 400x200 with 1 Axes>"
            ],
            "image/png": "[encoded data removed]"
          },
          "metadata": {}
        },
        {
          "output_type": "display_data",
          "data": {
            "text/plain": [
              "<Figure size 400x200 with 1 Axes>"
            ],
            "image/png": "[encoded data removed]"
          },
          "metadata": {}
        },
        {
          "output_type": "display_data",
          "data": {
            "text/plain": [
              "<Figure size 400x200 with 1 Axes>"
            ],
            "image/png": "[encoded data removed]"
          },
          "metadata": {}
        },
        {
          "output_type": "display_data",
          "data": {
            "text/plain": [
              "<Figure size 400x200 with 1 Axes>"
            ],
            "image/png": "[encoded data removed]"
          },
          "metadata": {}
        },
        {
          "output_type": "display_data",
          "data": {
            "text/plain": [
              "<Figure size 400x200 with 1 Axes>"
            ],
            "image/png": "[encoded data removed]"
          },
          "metadata": {}
        },
        {
          "output_type": "display_data",
          "data": {
            "text/plain": [
              "<Figure size 400x200 with 1 Axes>"
            ],
            "image/png": "[encoded data removed]"
          },
          "metadata": {}
        }
      ]
    },
    {
      "cell_type": "code",
      "source": [
        "breast_cancer_df.drop_duplicates(inplace=True)"
      ],
      "metadata": {
        "id": "OT99YtuWE86_"
      },
      "execution_count": null,
      "outputs": []
    },
    {
      "cell_type": "markdown",
      "source": [
        "# 04) Use Logistic Regression, Naive Bayes, Decision Tree and Kneighbors classifier to classify the cancer dataset."
      ],
      "metadata": {
        "id": "ijxt3G2kFAYJ"
      }
    },
    {
      "cell_type": "code",
      "source": [
        "breast_cancer_df['Binary'].value_counts()"
      ],
      "metadata": {
        "colab": {
          "base_uri": "https://localhost:8080/"
        },
        "id": "9yT1t_hBFNSi",
        "outputId": "741c26a4-fea8-49cb-e7c7-b1e432e24a94"
      },
      "execution_count": null,
      "outputs": [
        {
          "output_type": "execute_result",
          "data": {
            "text/plain": [
              "0    198\n",
              "1     45\n",
              "Name: Binary, dtype: int64"
            ]
          },
          "metadata": {},
          "execution_count": 19
        }
      ]
    },
    {
      "cell_type": "code",
      "source": [
        "sns.barplot(x=breast_cancer_df.Binary.value_counts().index,y=breast_cancer_df.Binary.value_counts())"
      ],
      "metadata": {
        "colab": {
          "base_uri": "https://localhost:8080/",
          "height": 447
        },
        "id": "Tb4M3IcgFUM2",
        "outputId": "a954c5d4-7a63-4cef-84e5-edbd1a69f22b"
      },
      "execution_count": null,
      "outputs": [
        {
          "output_type": "execute_result",
          "data": {
            "text/plain": [
              "<Axes: ylabel='Binary'>"
            ]
          },
          "metadata": {},
          "execution_count": 20
        },
        {
          "output_type": "display_data",
          "data": {
            "text/plain": [
              "<Figure size 640x480 with 1 Axes>"
            ],
            "image/png": "[encoded data removed]"
          },
          "metadata": {}
        }
      ]
    },
    {
      "cell_type": "code",
      "source": [
        "X=breast_cancer_df.drop(columns=['Binary','PatientID'],axis=1)\n",
        "y=breast_cancer_df['Binary']"
      ],
      "metadata": {
        "id": "WwOJMQKSFgDg"
      },
      "execution_count": null,
      "outputs": []
    },
    {
      "cell_type": "code",
      "source": [
        "X"
      ],
      "metadata": {
        "colab": {
          "base_uri": "https://localhost:8080/",
          "height": 423
        },
        "id": "dFfLJVazFlS4",
        "outputId": "34335854-cf9d-439b-b139-26b2d73ee5ad"
      },
      "execution_count": null,
      "outputs": [
        {
          "output_type": "execute_result",
          "data": {
            "text/plain": [
              "     Age  Weight  Height  NoOfChildren  AgeAtMenarche  AgeAtMenopause  \\\n",
              "0     40   50.00    1.65             2             13            49.0   \n",
              "1     55   70.20    1.58             3             14            42.0   \n",
              "2     51   41.25    1.46             2             14            49.0   \n",
              "3     45   70.50    1.64             1             14            49.0   \n",
              "4     50   60.90    1.49             3             12            49.0   \n",
              "..   ...     ...     ...           ...            ...             ...   \n",
              "238   65   70.00    1.50             2             13            51.0   \n",
              "239   55   56.00    1.52             0             12            41.0   \n",
              "240   40   65.00    1.48             2             12            35.0   \n",
              "241   45   53.00    1.40             3             12            49.0   \n",
              "242   44   52.00    1.60             2             14            49.0   \n",
              "\n",
              "     MenopausalStatus_Premenopausal  Parity_Parouse  UseOfHRT_Yes  \\\n",
              "0                                 1               1             0   \n",
              "1                                 0               1             0   \n",
              "2                                 1               1             0   \n",
              "3                                 1               1             0   \n",
              "4                                 1               1             0   \n",
              "..                              ...             ...           ...   \n",
              "238                               0               1             0   \n",
              "239                               0               0             0   \n",
              "240                               0               1             0   \n",
              "241                               1               1             1   \n",
              "242                               1               1             1   \n",
              "\n",
              "     FamilyHystory_Yes  \n",
              "0                    0  \n",
              "1                    0  \n",
              "2                    0  \n",
              "3                    0  \n",
              "4                    0  \n",
              "..                 ...  \n",
              "238                  0  \n",
              "239                  0  \n",
              "240                  0  \n",
              "241                  0  \n",
              "242                  0  \n",
              "\n",
              "[243 rows x 10 columns]"
            ],
            "text/html": [
              "\n",
              "  <div id=\"df-6ca8d02e-359b-4e6d-b9a3-a3fb0fce53db\" class=\"colab-df-container\">\n",
              "    <div>\n",
              "<style scoped>\n",
              "    .dataframe tbody tr th:only-of-type {\n",
              "        vertical-align: middle;\n",
              "    }\n",
              "\n",
              "    .dataframe tbody tr th {\n",
              "        vertical-align: top;\n",
              "    }\n",
              "\n",
              "    .dataframe thead th {\n",
              "        text-align: right;\n",
              "    }\n",
              "</style>\n",
              "<table border=\"1\" class=\"dataframe\">\n",
              "  <thead>\n",
              "    <tr style=\"text-align: right;\">\n",
              "      <th></th>\n",
              "      <th>Age</th>\n",
              "      <th>Weight</th>\n",
              "      <th>Height</th>\n",
              "      <th>NoOfChildren</th>\n",
              "      <th>AgeAtMenarche</th>\n",
              "      <th>AgeAtMenopause</th>\n",
              "      <th>MenopausalStatus_Premenopausal</th>\n",
              "      <th>Parity_Parouse</th>\n",
              "      <th>UseOfHRT_Yes</th>\n",
              "      <th>FamilyHystory_Yes</th>\n",
              "    </tr>\n",
              "  </thead>\n",
              "  <tbody>\n",
              "    <tr>\n",
              "      <th>0</th>\n",
              "      <td>40</td>\n",
              "      <td>50.00</td>\n",
              "      <td>1.65</td>\n",
              "      <td>2</td>\n",
              "      <td>13</td>\n",
              "      <td>49.0</td>\n",
              "      <td>1</td>\n",
              "      <td>1</td>\n",
              "      <td>0</td>\n",
              "      <td>0</td>\n",
              "    </tr>\n",
              "    <tr>\n",
              "      <th>1</th>\n",
              "      <td>55</td>\n",
              "      <td>70.20</td>\n",
              "      <td>1.58</td>\n",
              "      <td>3</td>\n",
              "      <td>14</td>\n",
              "      <td>42.0</td>\n",
              "      <td>0</td>\n",
              "      <td>1</td>\n",
              "      <td>0</td>\n",
              "      <td>0</td>\n",
              "    </tr>\n",
              "    <tr>\n",
              "      <th>2</th>\n",
              "      <td>51</td>\n",
              "      <td>41.25</td>\n",
              "      <td>1.46</td>\n",
              "      <td>2</td>\n",
              "      <td>14</td>\n",
              "      <td>49.0</td>\n",
              "      <td>1</td>\n",
              "      <td>1</td>\n",
              "      <td>0</td>\n",
              "      <td>0</td>\n",
              "    </tr>\n",
              "    <tr>\n",
              "      <th>3</th>\n",
              "      <td>45</td>\n",
              "      <td>70.50</td>\n",
              "      <td>1.64</td>\n",
              "      <td>1</td>\n",
              "      <td>14</td>\n",
              "      <td>49.0</td>\n",
              "      <td>1</td>\n",
              "      <td>1</td>\n",
              "      <td>0</td>\n",
              "      <td>0</td>\n",
              "    </tr>\n",
              "    <tr>\n",
              "      <th>4</th>\n",
              "      <td>50</td>\n",
              "      <td>60.90</td>\n",
              "      <td>1.49</td>\n",
              "      <td>3</td>\n",
              "      <td>12</td>\n",
              "      <td>49.0</td>\n",
              "      <td>1</td>\n",
              "      <td>1</td>\n",
              "      <td>0</td>\n",
              "      <td>0</td>\n",
              "    </tr>\n",
              "    <tr>\n",
              "      <th>...</th>\n",
              "      <td>...</td>\n",
              "      <td>...</td>\n",
              "      <td>...</td>\n",
              "      <td>...</td>\n",
              "      <td>...</td>\n",
              "      <td>...</td>\n",
              "      <td>...</td>\n",
              "      <td>...</td>\n",
              "      <td>...</td>\n",
              "      <td>...</td>\n",
              "    </tr>\n",
              "    <tr>\n",
              "      <th>238</th>\n",
              "      <td>65</td>\n",
              "      <td>70.00</td>\n",
              "      <td>1.50</td>\n",
              "      <td>2</td>\n",
              "      <td>13</td>\n",
              "      <td>51.0</td>\n",
              "      <td>0</td>\n",
              "      <td>1</td>\n",
              "      <td>0</td>\n",
              "      <td>0</td>\n",
              "    </tr>\n",
              "    <tr>\n",
              "      <th>239</th>\n",
              "      <td>55</td>\n",
              "      <td>56.00</td>\n",
              "      <td>1.52</td>\n",
              "      <td>0</td>\n",
              "      <td>12</td>\n",
              "      <td>41.0</td>\n",
              "      <td>0</td>\n",
              "      <td>0</td>\n",
              "      <td>0</td>\n",
              "      <td>0</td>\n",
              "    </tr>\n",
              "    <tr>\n",
              "      <th>240</th>\n",
              "      <td>40</td>\n",
              "      <td>65.00</td>\n",
              "      <td>1.48</td>\n",
              "      <td>2</td>\n",
              "      <td>12</td>\n",
              "      <td>35.0</td>\n",
              "      <td>0</td>\n",
              "      <td>1</td>\n",
              "      <td>0</td>\n",
              "      <td>0</td>\n",
              "    </tr>\n",
              "    <tr>\n",
              "      <th>241</th>\n",
              "      <td>45</td>\n",
              "      <td>53.00</td>\n",
              "      <td>1.40</td>\n",
              "      <td>3</td>\n",
              "      <td>12</td>\n",
              "      <td>49.0</td>\n",
              "      <td>1</td>\n",
              "      <td>1</td>\n",
              "      <td>1</td>\n",
              "      <td>0</td>\n",
              "    </tr>\n",
              "    <tr>\n",
              "      <th>242</th>\n",
              "      <td>44</td>\n",
              "      <td>52.00</td>\n",
              "      <td>1.60</td>\n",
              "      <td>2</td>\n",
              "      <td>14</td>\n",
              "      <td>49.0</td>\n",
              "      <td>1</td>\n",
              "      <td>1</td>\n",
              "      <td>1</td>\n",
              "      <td>0</td>\n",
              "    </tr>\n",
              "  </tbody>\n",
              "</table>\n",
              "<p>243 rows × 10 columns</p>\n",
              "</div>\n",
              "    <div class=\"colab-df-buttons\">\n",
              "\n",
              "  <div class=\"colab-df-container\">\n",
              "    <button class=\"colab-df-convert\" onclick=\"convertToInteractive('df-6ca8d02e-359b-4e6d-b9a3-a3fb0fce53db')\"\n",
              "            title=\"Convert this dataframe to an interactive table.\"\n",
              "            style=\"display:none;\">\n",
              "\n",
              "  <svg xmlns=\"http://www.w3.org/2000/svg\" height=\"24px\" viewBox=\"0 -960 960 960\">\n",
              "    <path d=\"M120-120v-720h720v720H120Zm60-500h600v-160H180v160Zm220 220h160v-160H400v160Zm0 220h160v-160H400v160ZM180-400h160v-160H180v160Zm440 0h160v-160H620v160ZM180-180h160v-160H180v160Zm440 0h160v-160H620v160Z\"/>\n",
              "  </svg>\n",
              "    </button>\n",
              "\n",
              "  <style>\n",
              "    .colab-df-container {\n",
              "      display:flex;\n",
              "      gap: 12px;\n",
              "    }\n",
              "\n",
              "    .colab-df-convert {\n",
              "      background-color: #E8F0FE;\n",
              "      border: none;\n",
              "      border-radius: 50%;\n",
              "      cursor: pointer;\n",
              "      display: none;\n",
              "      fill: #1967D2;\n",
              "      height: 32px;\n",
              "      padding: 0 0 0 0;\n",
              "      width: 32px;\n",
              "    }\n",
              "\n",
              "    .colab-df-convert:hover {\n",
              "      background-color: #E2EBFA;\n",
              "      box-shadow: 0px 1px 2px rgba(60, 64, 67, 0.3), 0px 1px 3px 1px rgba(60, 64, 67, 0.15);\n",
              "      fill: #174EA6;\n",
              "    }\n",
              "\n",
              "    .colab-df-buttons div {\n",
              "      margin-bottom: 4px;\n",
              "    }\n",
              "\n",
              "    [theme=dark] .colab-df-convert {\n",
              "      background-color: #3B4455;\n",
              "      fill: #D2E3FC;\n",
              "    }\n",
              "\n",
              "    [theme=dark] .colab-df-convert:hover {\n",
              "      background-color: #434B5C;\n",
              "      box-shadow: 0px 1px 3px 1px rgba(0, 0, 0, 0.15);\n",
              "      filter: drop-shadow(0px 1px 2px rgba(0, 0, 0, 0.3));\n",
              "      fill: #FFFFFF;\n",
              "    }\n",
              "  </style>\n",
              "\n",
              "    <script>\n",
              "      const buttonEl =\n",
              "        document.querySelector('#df-6ca8d02e-359b-4e6d-b9a3-a3fb0fce53db button.colab-df-convert');\n",
              "      buttonEl.style.display =\n",
              "        google.colab.kernel.accessAllowed ? 'block' : 'none';\n",
              "\n",
              "      async function convertToInteractive(key) {\n",
              "        const element = document.querySelector('#df-6ca8d02e-359b-4e6d-b9a3-a3fb0fce53db');\n",
              "        const dataTable =\n",
              "          await google.colab.kernel.invokeFunction('convertToInteractive',\n",
              "                                                    [key], {});\n",
              "        if (!dataTable) return;\n",
              "\n",
              "        const docLinkHtml = 'Like what you see? Visit the ' +\n",
              "          '<a target=\"_blank\" href=https://colab.research.google.com/notebooks/data_table.ipynb>data table notebook</a>'\n",
              "          + ' to learn more about interactive tables.';\n",
              "        element.innerHTML = '';\n",
              "        dataTable['output_type'] = 'display_data';\n",
              "        await google.colab.output.renderOutput(dataTable, element);\n",
              "        const docLink = document.createElement('div');\n",
              "        docLink.innerHTML = docLinkHtml;\n",
              "        element.appendChild(docLink);\n",
              "      }\n",
              "    </script>\n",
              "  </div>\n",
              "\n",
              "\n",
              "<div id=\"df-b96fc3d3-cfa3-4162-b576-7bf5bf9a2f52\">\n",
              "  <button class=\"colab-df-quickchart\" onclick=\"quickchart('df-b96fc3d3-cfa3-4162-b576-7bf5bf9a2f52')\"\n",
              "            title=\"Suggest charts.\"\n",
              "            style=\"display:none;\">\n",
              "\n",
              "<svg xmlns=\"http://www.w3.org/2000/svg\" height=\"24px\"viewBox=\"0 0 24 24\"\n",
              "     width=\"24px\">\n",
              "    <g>\n",
              "        <path d=\"M19 3H5c-1.1 0-2 .9-2 2v14c0 1.1.9 2 2 2h14c1.1 0 2-.9 2-2V5c0-1.1-.9-2-2-2zM9 17H7v-7h2v7zm4 0h-2V7h2v10zm4 0h-2v-4h2v4z\"/>\n",
              "    </g>\n",
              "</svg>\n",
              "  </button>\n",
              "\n",
              "<style>\n",
              "  .colab-df-quickchart {\n",
              "      --bg-color: #E8F0FE;\n",
              "      --fill-color: #1967D2;\n",
              "      --hover-bg-color: #E2EBFA;\n",
              "      --hover-fill-color: #174EA6;\n",
              "      --disabled-fill-color: #AAA;\n",
              "      --disabled-bg-color: #DDD;\n",
              "  }\n",
              "\n",
              "  [theme=dark] .colab-df-quickchart {\n",
              "      --bg-color: #3B4455;\n",
              "      --fill-color: #D2E3FC;\n",
              "      --hover-bg-color: #434B5C;\n",
              "      --hover-fill-color: #FFFFFF;\n",
              "      --disabled-bg-color: #3B4455;\n",
              "      --disabled-fill-color: #666;\n",
              "  }\n",
              "\n",
              "  .colab-df-quickchart {\n",
              "    background-color: var(--bg-color);\n",
              "    border: none;\n",
              "    border-radius: 50%;\n",
              "    cursor: pointer;\n",
              "    display: none;\n",
              "    fill: var(--fill-color);\n",
              "    height: 32px;\n",
              "    padding: 0;\n",
              "    width: 32px;\n",
              "  }\n",
              "\n",
              "  .colab-df-quickchart:hover {\n",
              "    background-color: var(--hover-bg-color);\n",
              "    box-shadow: 0 1px 2px rgba(60, 64, 67, 0.3), 0 1px 3px 1px rgba(60, 64, 67, 0.15);\n",
              "    fill: var(--button-hover-fill-color);\n",
              "  }\n",
              "\n",
              "  .colab-df-quickchart-complete:disabled,\n",
              "  .colab-df-quickchart-complete:disabled:hover {\n",
              "    background-color: var(--disabled-bg-color);\n",
              "    fill: var(--disabled-fill-color);\n",
              "    box-shadow: none;\n",
              "  }\n",
              "\n",
              "  .colab-df-spinner {\n",
              "    border: 2px solid var(--fill-color);\n",
              "    border-color: transparent;\n",
              "    border-bottom-color: var(--fill-color);\n",
              "    animation:\n",
              "      spin 1s steps(1) infinite;\n",
              "  }\n",
              "\n",
              "  @keyframes spin {\n",
              "    0% {\n",
              "      border-color: transparent;\n",
              "      border-bottom-color: var(--fill-color);\n",
              "      border-left-color: var(--fill-color);\n",
              "    }\n",
              "    20% {\n",
              "      border-color: transparent;\n",
              "      border-left-color: var(--fill-color);\n",
              "      border-top-color: var(--fill-color);\n",
              "    }\n",
              "    30% {\n",
              "      border-color: transparent;\n",
              "      border-left-color: var(--fill-color);\n",
              "      border-top-color: var(--fill-color);\n",
              "      border-right-color: var(--fill-color);\n",
              "    }\n",
              "    40% {\n",
              "      border-color: transparent;\n",
              "      border-right-color: var(--fill-color);\n",
              "      border-top-color: var(--fill-color);\n",
              "    }\n",
              "    60% {\n",
              "      border-color: transparent;\n",
              "      border-right-color: var(--fill-color);\n",
              "    }\n",
              "    80% {\n",
              "      border-color: transparent;\n",
              "      border-right-color: var(--fill-color);\n",
              "      border-bottom-color: var(--fill-color);\n",
              "    }\n",
              "    90% {\n",
              "      border-color: transparent;\n",
              "      border-bottom-color: var(--fill-color);\n",
              "    }\n",
              "  }\n",
              "</style>\n",
              "\n",
              "  <script>\n",
              "    async function quickchart(key) {\n",
              "      const quickchartButtonEl =\n",
              "        document.querySelector('#' + key + ' button');\n",
              "      quickchartButtonEl.disabled = true;  // To prevent multiple clicks.\n",
              "      quickchartButtonEl.classList.add('colab-df-spinner');\n",
              "      try {\n",
              "        const charts = await google.colab.kernel.invokeFunction(\n",
              "            'suggestCharts', [key], {});\n",
              "      } catch (error) {\n",
              "        console.error('Error during call to suggestCharts:', error);\n",
              "      }\n",
              "      quickchartButtonEl.classList.remove('colab-df-spinner');\n",
              "      quickchartButtonEl.classList.add('colab-df-quickchart-complete');\n",
              "    }\n",
              "    (() => {\n",
              "      let quickchartButtonEl =\n",
              "        document.querySelector('#df-b96fc3d3-cfa3-4162-b576-7bf5bf9a2f52 button');\n",
              "      quickchartButtonEl.style.display =\n",
              "        google.colab.kernel.accessAllowed ? 'block' : 'none';\n",
              "    })();\n",
              "  </script>\n",
              "</div>\n",
              "    </div>\n",
              "  </div>\n"
            ]
          },
          "metadata": {},
          "execution_count": 22
        }
      ]
    },
    {
      "cell_type": "code",
      "source": [
        "from sklearn.model_selection import train_test_split\n",
        "X_train,X_test,y_train,y_test=train_test_split(X,\n",
        "                                               y,\n",
        "                                               test_size=0.2,\n",
        "                                               random_state=42)"
      ],
      "metadata": {
        "id": "qIgETNVGFp7s"
      },
      "execution_count": null,
      "outputs": []
    },
    {
      "cell_type": "markdown",
      "source": [
        "**Logistic Regression**"
      ],
      "metadata": {
        "id": "cGXk-S_GFz-u"
      }
    },
    {
      "cell_type": "code",
      "source": [
        "from sklearn.linear_model import LogisticRegression\n",
        "import sklearn.metrics as metrics\n",
        "\n",
        "lr_classifier=LogisticRegression(max_iter=1000)\n",
        "lr_classifier.fit(X_train,y_train)\n",
        "\n",
        "print(lr_classifier.fit(X_train,y_train))\n",
        "y_pred=lr_classifier.predict(X_test)\n",
        "\n",
        "print(metrics.confusion_matrix(y_test,y_pred))\n",
        "print(metrics.accuracy_score(y_test, y_pred))\n",
        "print(metrics.classification_report(y_test, y_pred))"
      ],
      "metadata": {
        "colab": {
          "base_uri": "https://localhost:8080/"
        },
        "id": "dOp3JsfyF4cC",
        "outputId": "4c017633-917b-476e-f74b-8de8d4d9182c"
      },
      "execution_count": null,
      "outputs": [
        {
          "output_type": "stream",
          "name": "stdout",
          "text": [
            "LogisticRegression(max_iter=1000)\n",
            "[[42  1]\n",
            " [ 4  2]]\n",
            "0.8979591836734694\n",
            "              precision    recall  f1-score   support\n",
            "\n",
            "           0       0.91      0.98      0.94        43\n",
            "           1       0.67      0.33      0.44         6\n",
            "\n",
            "    accuracy                           0.90        49\n",
            "   macro avg       0.79      0.66      0.69        49\n",
            "weighted avg       0.88      0.90      0.88        49\n",
            "\n"
          ]
        }
      ]
    },
    {
      "cell_type": "markdown",
      "source": [
        "**Naive Bayes**"
      ],
      "metadata": {
        "id": "DdVDaCd2GBp4"
      }
    },
    {
      "cell_type": "code",
      "source": [
        "from sklearn.naive_bayes import GaussianNB\n",
        "\n",
        "nb_classifier=GaussianNB()\n",
        "nb_classifier.fit(X_train,y_train)\n",
        "\n",
        "print(nb_classifier.fit(X_train,y_train))\n",
        "\n",
        "y_pred=nb_classifier.predict(X_test)\n",
        "\n",
        "print(metrics.confusion_matrix(y_test,y_pred))\n",
        "print(metrics.accuracy_score(y_test, y_pred))\n",
        "print(metrics.classification_report(y_test, y_pred))"
      ],
      "metadata": {
        "colab": {
          "base_uri": "https://localhost:8080/"
        },
        "id": "xV4XOYRPGEpg",
        "outputId": "769f66a5-f224-4cdd-fbf9-64c8438d170f"
      },
      "execution_count": null,
      "outputs": [
        {
          "output_type": "stream",
          "name": "stdout",
          "text": [
            "GaussianNB()\n",
            "[[39  4]\n",
            " [ 4  2]]\n",
            "0.8367346938775511\n",
            "              precision    recall  f1-score   support\n",
            "\n",
            "           0       0.91      0.91      0.91        43\n",
            "           1       0.33      0.33      0.33         6\n",
            "\n",
            "    accuracy                           0.84        49\n",
            "   macro avg       0.62      0.62      0.62        49\n",
            "weighted avg       0.84      0.84      0.84        49\n",
            "\n"
          ]
        }
      ]
    },
    {
      "cell_type": "markdown",
      "source": [
        "**Decisiion Tree Classifier**"
      ],
      "metadata": {
        "id": "fQauk9STGNfQ"
      }
    },
    {
      "cell_type": "code",
      "source": [
        "from sklearn.tree import DecisionTreeClassifier\n",
        "\n",
        "dt_classifier=DecisionTreeClassifier(criterion=\"entropy\",random_state=42)\n",
        "dt_classifier.fit(X_train,y_train)\n",
        "\n",
        "print(dt_classifier.fit(X_train,y_train))\n",
        "\n",
        "y_pred=dt_classifier.predict(X_test)\n",
        "\n",
        "print(metrics.confusion_matrix(y_test,y_pred))\n",
        "print(metrics.accuracy_score(y_test, y_pred))\n",
        "print(metrics.classification_report(y_test, y_pred))"
      ],
      "metadata": {
        "colab": {
          "base_uri": "https://localhost:8080/"
        },
        "id": "X4a6Su8BGRoA",
        "outputId": "3d7895a2-4099-420c-801d-98f0745e5561"
      },
      "execution_count": null,
      "outputs": [
        {
          "output_type": "stream",
          "name": "stdout",
          "text": [
            "DecisionTreeClassifier(criterion='entropy', random_state=42)\n",
            "[[37  6]\n",
            " [ 5  1]]\n",
            "0.7755102040816326\n",
            "              precision    recall  f1-score   support\n",
            "\n",
            "           0       0.88      0.86      0.87        43\n",
            "           1       0.14      0.17      0.15         6\n",
            "\n",
            "    accuracy                           0.78        49\n",
            "   macro avg       0.51      0.51      0.51        49\n",
            "weighted avg       0.79      0.78      0.78        49\n",
            "\n"
          ]
        }
      ]
    },
    {
      "cell_type": "markdown",
      "source": [
        "**Kneighbors Classifier**"
      ],
      "metadata": {
        "id": "tFBGXcGmGYAI"
      }
    },
    {
      "cell_type": "code",
      "source": [
        "from sklearn.neighbors import KNeighborsClassifier\n",
        "\n",
        "kn_classifier=KNeighborsClassifier(n_neighbors=3)\n",
        "kn_classifier.fit(X_train,y_train)\n",
        "\n",
        "print(kn_classifier.fit(X_train,y_train))\n",
        "\n",
        "y_pred=kn_classifier.predict(X_test)\n",
        "\n",
        "print(metrics.confusion_matrix(y_test,y_pred))\n",
        "print(metrics.accuracy_score(y_test, y_pred))\n",
        "print(metrics.classification_report(y_test, y_pred,zero_division='warn'))"
      ],
      "metadata": {
        "colab": {
          "base_uri": "https://localhost:8080/"
        },
        "id": "SvlESFQfGgwS",
        "outputId": "7a18580d-97c7-42aa-c304-6f4b9bc7da90"
      },
      "execution_count": null,
      "outputs": [
        {
          "output_type": "stream",
          "name": "stdout",
          "text": [
            "KNeighborsClassifier(n_neighbors=3)\n",
            "[[41  2]\n",
            " [ 5  1]]\n",
            "0.8571428571428571\n",
            "              precision    recall  f1-score   support\n",
            "\n",
            "           0       0.89      0.95      0.92        43\n",
            "           1       0.33      0.17      0.22         6\n",
            "\n",
            "    accuracy                           0.86        49\n",
            "   macro avg       0.61      0.56      0.57        49\n",
            "weighted avg       0.82      0.86      0.84        49\n",
            "\n"
          ]
        }
      ]
    },
    {
      "cell_type": "markdown",
      "source": [
        "# 05) Optimize hyperparameters to obtain the best classifier and discuss your answers."
      ],
      "metadata": {
        "id": "aBvBBIZxGqlP"
      }
    },
    {
      "cell_type": "code",
      "source": [
        "import sklearn.metrics\n",
        "\n",
        "def print_model_performance(model, X_test, y_test):\n",
        "    y_pred = model.predict(X_test)\n",
        "    print('Accuracy score:\\n', metrics.accuracy_score(y_test, y_pred))\n",
        "    print('Confusion matrix:\\n', metrics.confusion_matrix(y_test, y_pred))\n",
        "    print('Classification report:\\n', metrics.classification_report(y_test, y_pred, digits=4))\n",
        "    print('Precision:\\n',metrics.precision_score(y_test, y_pred,zero_division=1))\n",
        "    print('Recall:\\n',metrics.recall_score(y_test, y_pred,zero_division=1))"
      ],
      "metadata": {
        "id": "zaCy-kCQGtss"
      },
      "execution_count": null,
      "outputs": []
    },
    {
      "cell_type": "markdown",
      "source": [
        "**Logistic Regression**"
      ],
      "metadata": {
        "id": "ESOorAwQG__4"
      }
    },
    {
      "cell_type": "code",
      "source": [
        "from sklearn.model_selection import GridSearchCV, KFold\n",
        "from sklearn.linear_model import LogisticRegression\n",
        "\n",
        "\n",
        "lr_classifier = LogisticRegression(max_iter=1000)\n",
        "lr_C = np.array([0.01, 0.1, 1, 10, 100])\n",
        "lr_penalty = ['l2', 'none']\n",
        "lr_solver = [ 'lbfgs']\n",
        "\n",
        "\n",
        "grid_values = {\n",
        "    'C': lr_C,\n",
        "    'penalty': lr_penalty,\n",
        "    'solver': lr_solver\n",
        "}\n",
        "\n",
        "cross_validation = KFold(n_splits=5, shuffle=False)\n",
        "lrc_grid = GridSearchCV(lr_classifier, param_grid=grid_values, cv=cross_validation, n_jobs=-1, scoring='f1_macro', verbose=1)\n",
        "\n",
        "desc = lrc_grid.fit(X_train, y_train)\n",
        "print(desc)\n",
        "print_model_performance(lrc_grid, X_test, y_test)\n",
        "\n",
        "print(\"\\n The best parameters across all the searched params:\\n\", lrc_grid.best_params_)"
      ],
      "metadata": {
        "colab": {
          "base_uri": "https://localhost:8080/"
        },
        "id": "PWZGSSEgHEAb",
        "outputId": "ab6da2a5-9f72-4644-9111-4ab75fd6fe1a"
      },
      "execution_count": null,
      "outputs": [
        {
          "output_type": "stream",
          "name": "stdout",
          "text": [
            "Fitting 5 folds for each of 10 candidates, totalling 50 fits\n",
            "GridSearchCV(cv=KFold(n_splits=5, random_state=None, shuffle=False),\n",
            "             estimator=LogisticRegression(max_iter=1000), n_jobs=-1,\n",
            "             param_grid={'C': array([1.e-02, 1.e-01, 1.e+00, 1.e+01, 1.e+02]),\n",
            "                         'penalty': ['l2', 'none'], 'solver': ['lbfgs']},\n",
            "             scoring='f1_macro', verbose=1)\n",
            "Accuracy score:\n",
            " 0.8979591836734694\n",
            "Confusion matrix:\n",
            " [[42  1]\n",
            " [ 4  2]]\n",
            "Classification report:\n",
            "               precision    recall  f1-score   support\n",
            "\n",
            "           0     0.9130    0.9767    0.9438        43\n",
            "           1     0.6667    0.3333    0.4444         6\n",
            "\n",
            "    accuracy                         0.8980        49\n",
            "   macro avg     0.7899    0.6550    0.6941        49\n",
            "weighted avg     0.8829    0.8980    0.8827        49\n",
            "\n",
            "Precision:\n",
            " 0.6666666666666666\n",
            "Recall:\n",
            " 0.3333333333333333\n",
            "\n",
            " The best parameters across all the searched params:\n",
            " {'C': 1.0, 'penalty': 'l2', 'solver': 'lbfgs'}\n"
          ]
        }
      ]
    },
    {
      "cell_type": "markdown",
      "source": [
        "**Naive Bayes**"
      ],
      "metadata": {
        "id": "tbTibCZ7HTpT"
      }
    },
    {
      "cell_type": "code",
      "source": [
        "from sklearn.model_selection import GridSearchCV, KFold\n",
        "from sklearn.naive_bayes import GaussianNB\n",
        "\n",
        "\n",
        "nb_classifier = GaussianNB()\n",
        "grid_values = {\n",
        "    'var_smoothing': [1e-9, 1e-8, 1e-7]\n",
        "}\n",
        "\n",
        "cross_validation = KFold(n_splits=5, shuffle=False)\n",
        "nbc_grid = GridSearchCV(nb_classifier, param_grid=grid_values, cv=cross_validation, n_jobs=-1, scoring='f1_macro', verbose=1)\n",
        "\n",
        "desc = nbc_grid.fit(X_train, y_train)\n",
        "print(desc)\n",
        "print_model_performance(nbc_grid, X_test, y_test)\n",
        "\n",
        "print(\"\\n The best parameters across all the searched params:\\n\", nbc_grid.best_params_)"
      ],
      "metadata": {
        "colab": {
          "base_uri": "https://localhost:8080/"
        },
        "id": "WYwn0Z2gHWJR",
        "outputId": "09c52ac4-cc04-4cf2-a4c0-541615290158"
      },
      "execution_count": null,
      "outputs": [
        {
          "output_type": "stream",
          "name": "stdout",
          "text": [
            "Fitting 5 folds for each of 3 candidates, totalling 15 fits\n",
            "GridSearchCV(cv=KFold(n_splits=5, random_state=None, shuffle=False),\n",
            "             estimator=GaussianNB(), n_jobs=-1,\n",
            "             param_grid={'var_smoothing': [1e-09, 1e-08, 1e-07]},\n",
            "             scoring='f1_macro', verbose=1)\n",
            "Accuracy score:\n",
            " 0.8367346938775511\n",
            "Confusion matrix:\n",
            " [[39  4]\n",
            " [ 4  2]]\n",
            "Classification report:\n",
            "               precision    recall  f1-score   support\n",
            "\n",
            "           0     0.9070    0.9070    0.9070        43\n",
            "           1     0.3333    0.3333    0.3333         6\n",
            "\n",
            "    accuracy                         0.8367        49\n",
            "   macro avg     0.6202    0.6202    0.6202        49\n",
            "weighted avg     0.8367    0.8367    0.8367        49\n",
            "\n",
            "Precision:\n",
            " 0.3333333333333333\n",
            "Recall:\n",
            " 0.3333333333333333\n",
            "\n",
            " The best parameters across all the searched params:\n",
            " {'var_smoothing': 1e-09}\n"
          ]
        }
      ]
    },
    {
      "cell_type": "markdown",
      "source": [
        "**Decision Tree Classifier**"
      ],
      "metadata": {
        "id": "J52j_xc1Hcdj"
      }
    },
    {
      "cell_type": "code",
      "source": [
        "from sklearn.model_selection import GridSearchCV, KFold\n",
        "from sklearn.tree import DecisionTreeClassifier\n",
        "\n",
        "\n",
        "dt_classifier = DecisionTreeClassifier()\n",
        "dt_criterion = ['gini', 'entropy']\n",
        "dt_max_depth = [None, 10, 20, 30, 40, 50]\n",
        "dt_min_samples_split = [2, 5, 10]\n",
        "dt_min_samples_leaf = [1, 2, 4]\n",
        "\n",
        "grid_values = {\n",
        "    'criterion': dt_criterion,\n",
        "    'max_depth': dt_max_depth,\n",
        "    'min_samples_split': dt_min_samples_split,\n",
        "    'min_samples_leaf': dt_min_samples_leaf\n",
        "}\n",
        "\n",
        "cross_validation = KFold(n_splits=5, shuffle=True)\n",
        "dtc_grid = GridSearchCV(dt_classifier, param_grid=grid_values, cv=cross_validation, n_jobs=-1, scoring='f1_macro', verbose=1)\n",
        "\n",
        "desc = dtc_grid.fit(X_train, y_train)\n",
        "print(desc)\n",
        "print_model_performance(dtc_grid, X_test, y_test)\n",
        "\n",
        "print(\"\\n The best parameters across all the searched params:\\n\", dtc_grid.best_params_)"
      ],
      "metadata": {
        "colab": {
          "base_uri": "https://localhost:8080/"
        },
        "id": "7McBe_FTHgdS",
        "outputId": "3d5bb948-5b55-414e-ef93-88f881e903a6"
      },
      "execution_count": null,
      "outputs": [
        {
          "output_type": "stream",
          "name": "stdout",
          "text": [
            "Fitting 5 folds for each of 108 candidates, totalling 540 fits\n",
            "GridSearchCV(cv=KFold(n_splits=5, random_state=None, shuffle=True),\n",
            "             estimator=DecisionTreeClassifier(), n_jobs=-1,\n",
            "             param_grid={'criterion': ['gini', 'entropy'],\n",
            "                         'max_depth': [None, 10, 20, 30, 40, 50],\n",
            "                         'min_samples_leaf': [1, 2, 4],\n",
            "                         'min_samples_split': [2, 5, 10]},\n",
            "             scoring='f1_macro', verbose=1)\n",
            "Accuracy score:\n",
            " 0.8367346938775511\n",
            "Confusion matrix:\n",
            " [[40  3]\n",
            " [ 5  1]]\n",
            "Classification report:\n",
            "               precision    recall  f1-score   support\n",
            "\n",
            "           0     0.8889    0.9302    0.9091        43\n",
            "           1     0.2500    0.1667    0.2000         6\n",
            "\n",
            "    accuracy                         0.8367        49\n",
            "   macro avg     0.5694    0.5484    0.5545        49\n",
            "weighted avg     0.8107    0.8367    0.8223        49\n",
            "\n",
            "Precision:\n",
            " 0.25\n",
            "Recall:\n",
            " 0.16666666666666666\n",
            "\n",
            " The best parameters across all the searched params:\n",
            " {'criterion': 'entropy', 'max_depth': 20, 'min_samples_leaf': 1, 'min_samples_split': 5}\n"
          ]
        }
      ]
    },
    {
      "cell_type": "markdown",
      "source": [
        "**Kneighbors Classifier**"
      ],
      "metadata": {
        "id": "GOEFDdU4HomS"
      }
    },
    {
      "cell_type": "code",
      "source": [
        "from sklearn.model_selection import GridSearchCV, KFold\n",
        "from sklearn.neighbors import KNeighborsClassifier\n",
        "\n",
        "\n",
        "kn_classifier = KNeighborsClassifier()\n",
        "kn_n_neighbors = [3, 5, 7, 9]\n",
        "kn_weights = ['uniform', 'distance']\n",
        "kn_algorithms = ['auto', 'ball_tree', 'kd_tree', 'brute']\n",
        "\n",
        "grid_values = {\n",
        "    'n_neighbors': kn_n_neighbors,\n",
        "    'weights': kn_weights,\n",
        "    'algorithm': kn_algorithms\n",
        "}\n",
        "\n",
        "cross_validation = KFold(n_splits=5, shuffle=True)\n",
        "knc_grid = GridSearchCV(kn_classifier, param_grid=grid_values, cv=cross_validation, n_jobs=-1, scoring='f1_macro', verbose=1)\n",
        "\n",
        "desc = knc_grid.fit(X_train, y_train)\n",
        "print(desc)\n",
        "print_model_performance(knc_grid, X_test, y_test)\n",
        "\n",
        "print(\"\\n The best parameters across all the searched params:\\n\", knc_grid.best_params_)"
      ],
      "metadata": {
        "colab": {
          "base_uri": "https://localhost:8080/"
        },
        "id": "zFZiiQ1wHtFx",
        "outputId": "d607031d-77c1-412a-84e0-1593182de156"
      },
      "execution_count": null,
      "outputs": [
        {
          "output_type": "stream",
          "name": "stdout",
          "text": [
            "Fitting 5 folds for each of 32 candidates, totalling 160 fits\n",
            "GridSearchCV(cv=KFold(n_splits=5, random_state=None, shuffle=True),\n",
            "             estimator=KNeighborsClassifier(), n_jobs=-1,\n",
            "             param_grid={'algorithm': ['auto', 'ball_tree', 'kd_tree', 'brute'],\n",
            "                         'n_neighbors': [3, 5, 7, 9],\n",
            "                         'weights': ['uniform', 'distance']},\n",
            "             scoring='f1_macro', verbose=1)\n",
            "Accuracy score:\n",
            " 0.8571428571428571\n",
            "Confusion matrix:\n",
            " [[41  2]\n",
            " [ 5  1]]\n",
            "Classification report:\n",
            "               precision    recall  f1-score   support\n",
            "\n",
            "           0     0.8913    0.9535    0.9213        43\n",
            "           1     0.3333    0.1667    0.2222         6\n",
            "\n",
            "    accuracy                         0.8571        49\n",
            "   macro avg     0.6123    0.5601    0.5718        49\n",
            "weighted avg     0.8230    0.8571    0.8357        49\n",
            "\n",
            "Precision:\n",
            " 0.3333333333333333\n",
            "Recall:\n",
            " 0.16666666666666666\n",
            "\n",
            " The best parameters across all the searched params:\n",
            " {'algorithm': 'auto', 'n_neighbors': 3, 'weights': 'uniform'}\n"
          ]
        }
      ]
    },
    {
      "cell_type": "markdown",
      "source": [
        "**Logistic Regression**\n",
        "```\n",
        "Best hyperparameters achieved an accuracy of approximately 0.8980 on the test set. It performed reasonably well in terms of precision and recall for Class 1, although the recall is relatively low.\n",
        "```\n",
        "**Gaussian Naive Bayes**\n",
        "```\n",
        "Best hyperparameter (var_smoothing=1e-09) achieved an accuracy of approximately 0.8367 on the test set. It has a lower accuracy compared to Logistic Regression, and the precision and recall for Class 1 are both 0.3333.\n",
        "```\n",
        "**Decision Tree**\n",
        "```\n",
        "Best hyperparameters achieved an accuracy of approximately 0.8163 on the test set. It has the lowest accuracy among the classifiers, and the precision and recall for Class 1 are relatively low.\n",
        "```\n",
        "\n",
        "**K-Nearest Neighbors**\n",
        "```\n",
        "Best hyperparameters achieved an accuracy of approximately 0.8776 on the test set. It has a reasonable accuracy, but the precision and recall for Class 1 are not very high.\n",
        "```\n",
        "\n",
        "Among the classifiers, **Logistic Regression** achieved the highest accuracy on the test set and reasonably balanced precision and recall for Class 1 and F1_score aswell\n",
        "\n"
      ],
      "metadata": {
        "id": "3IrYH-ycH-jS"
      }
    },
    {
      "cell_type": "markdown",
      "source": [
        "# 06) Provide a solution for the data imbalance issue (Binary column)."
      ],
      "metadata": {
        "id": "TJL0KMNvJGez"
      }
    },
    {
      "cell_type": "code",
      "source": [
        "breast_cancer_df['Binary'].value_counts()"
      ],
      "metadata": {
        "colab": {
          "base_uri": "https://localhost:8080/"
        },
        "id": "ZZHXinKfJQW_",
        "outputId": "a1c2242e-c98c-4305-f8b2-47ce98186b80"
      },
      "execution_count": null,
      "outputs": [
        {
          "output_type": "execute_result",
          "data": {
            "text/plain": [
              "0    198\n",
              "1     45\n",
              "Name: Binary, dtype: int64"
            ]
          },
          "metadata": {},
          "execution_count": 33
        }
      ]
    },
    {
      "cell_type": "code",
      "source": [
        "y.value_counts()"
      ],
      "metadata": {
        "colab": {
          "base_uri": "https://localhost:8080/"
        },
        "id": "QmTuT-QaJYr1",
        "outputId": "00a1d8a0-f06b-4817-dc11-4450868520f3"
      },
      "execution_count": null,
      "outputs": [
        {
          "output_type": "execute_result",
          "data": {
            "text/plain": [
              "0    198\n",
              "1     45\n",
              "Name: Binary, dtype: int64"
            ]
          },
          "metadata": {},
          "execution_count": 34
        }
      ]
    },
    {
      "cell_type": "code",
      "source": [
        "colors = ['#ff9999','#66b3ff']\n",
        "y.value_counts().plot.pie(autopct='%.2f',colors=colors)"
      ],
      "metadata": {
        "colab": {
          "base_uri": "https://localhost:8080/",
          "height": 423
        },
        "id": "fLjWzqcTJcaq",
        "outputId": "3245f6cc-cd8d-4cb0-8c6c-d461bfbc6de3"
      },
      "execution_count": null,
      "outputs": [
        {
          "output_type": "execute_result",
          "data": {
            "text/plain": [
              "<Axes: ylabel='Binary'>"
            ]
          },
          "metadata": {},
          "execution_count": 46
        },
        {
          "output_type": "display_data",
          "data": {
            "text/plain": [
              "<Figure size 640x480 with 1 Axes>"
            ],
            "image/png": "[encoded data removed]"
          },
          "metadata": {}
        }
      ]
    },
    {
      "cell_type": "code",
      "source": [
        "from imblearn.over_sampling import RandomOverSampler\n",
        "\n",
        "resampled = RandomOverSampler(sampling_strategy=\"auto\")\n",
        "X_resampled, y_resampled = resampled.fit_resample(X, y)\n",
        "\n",
        "ax = y_resampled.value_counts().plot.pie(autopct='%.2f')\n",
        "_ = ax.set_title(\"Over Sampling\")\n",
        "plt.show()"
      ],
      "metadata": {
        "colab": {
          "base_uri": "https://localhost:8080/",
          "height": 428
        },
        "id": "1HkAbHx9RB50",
        "outputId": "d6b29dbd-5002-472f-ebeb-26823aaf62a4"
      },
      "execution_count": null,
      "outputs": [
        {
          "output_type": "display_data",
          "data": {
            "text/plain": [
              "<Figure size 640x480 with 1 Axes>"
            ],
            "image/png": "[encoded data removed]"
          },
          "metadata": {}
        }
      ]
    },
    {
      "cell_type": "code",
      "source": [
        "y_resampled.value_counts()"
      ],
      "metadata": {
        "colab": {
          "base_uri": "https://localhost:8080/"
        },
        "id": "aERoRQkJRK7c",
        "outputId": "8bff5e3a-51c0-4d3f-fbf8-8bb48e123c7b"
      },
      "execution_count": null,
      "outputs": [
        {
          "output_type": "execute_result",
          "data": {
            "text/plain": [
              "0    198\n",
              "1    198\n",
              "Name: Binary, dtype: int64"
            ]
          },
          "metadata": {},
          "execution_count": 48
        }
      ]
    },
    {
      "cell_type": "markdown",
      "source": [
        "# 07) Use the Random Forest classifier (Ensemble technique) and discuss the result by comparing the previous four methods."
      ],
      "metadata": {
        "id": "S-QlIG8DRPRy"
      }
    },
    {
      "cell_type": "code",
      "source": [
        "from sklearn.ensemble import RandomForestClassifier\n",
        "rf_classifier=RandomForestClassifier()\n",
        "rf_classifier.fit(X_train,y_train)\n",
        "print_model_performance(rf_classifier,X_test,y_test)"
      ],
      "metadata": {
        "colab": {
          "base_uri": "https://localhost:8080/"
        },
        "id": "9U7an-6LRW3o",
        "outputId": "a563e612-1f55-40b7-a412-aa43bfc50d27"
      },
      "execution_count": null,
      "outputs": [
        {
          "output_type": "stream",
          "name": "stdout",
          "text": [
            "Accuracy score:\n",
            " 0.8979591836734694\n",
            "Confusion matrix:\n",
            " [[42  1]\n",
            " [ 4  2]]\n",
            "Classification report:\n",
            "               precision    recall  f1-score   support\n",
            "\n",
            "           0     0.9130    0.9767    0.9438        43\n",
            "           1     0.6667    0.3333    0.4444         6\n",
            "\n",
            "    accuracy                         0.8980        49\n",
            "   macro avg     0.7899    0.6550    0.6941        49\n",
            "weighted avg     0.8829    0.8980    0.8827        49\n",
            "\n",
            "Precision:\n",
            " 0.6666666666666666\n",
            "Recall:\n",
            " 0.3333333333333333\n"
          ]
        }
      ]
    },
    {
      "cell_type": "code",
      "source": [
        "from sklearn.model_selection import GridSearchCV, KFold\n",
        "from sklearn.ensemble import RandomForestClassifier\n",
        "\n",
        "rf_classifier=RandomForestClassifier()\n",
        "\n",
        "\n",
        "grid_values = {\n",
        "    'n_estimators': [50, 100, 200],\n",
        "    'max_depth': [None, 10, 20],\n",
        "    'min_samples_split': [2, 5, 10],\n",
        "    'min_samples_leaf': [1, 2, 4],\n",
        "    'max_features': ['auto', 'sqrt', 'log2']\n",
        "\n",
        "}\n",
        "\n",
        "cross_validation = KFold(n_splits=5, shuffle=True)\n",
        "rfc_grid = GridSearchCV(rf_classifier, param_grid=grid_values, cv=cross_validation, n_jobs=-1, scoring='f1_macro', verbose=1)\n",
        "\n",
        "desc = rfc_grid.fit(X_train, y_train)\n",
        "print(desc)\n",
        "print_model_performance(rfc_grid, X_test, y_test)\n",
        "\n",
        "print(\"\\n The best parameters across all the searched params:\\n\", rfc_grid.best_params_)"
      ],
      "metadata": {
        "colab": {
          "base_uri": "https://localhost:8080/"
        },
        "id": "hIte0v6tRcXy",
        "outputId": "1126fabd-c662-421f-a355-b7fccec6b806"
      },
      "execution_count": null,
      "outputs": [
        {
          "output_type": "stream",
          "name": "stdout",
          "text": [
            "Fitting 5 folds for each of 243 candidates, totalling 1215 fits\n",
            "GridSearchCV(cv=KFold(n_splits=5, random_state=None, shuffle=True),\n",
            "             estimator=RandomForestClassifier(), n_jobs=-1,\n",
            "             param_grid={'max_depth': [None, 10, 20],\n",
            "                         'max_features': ['auto', 'sqrt', 'log2'],\n",
            "                         'min_samples_leaf': [1, 2, 4],\n",
            "                         'min_samples_split': [2, 5, 10],\n",
            "                         'n_estimators': [50, 100, 200]},\n",
            "             scoring='f1_macro', verbose=1)\n",
            "Accuracy score:\n",
            " 0.8979591836734694\n",
            "Confusion matrix:\n",
            " [[42  1]\n",
            " [ 4  2]]\n",
            "Classification report:\n",
            "               precision    recall  f1-score   support\n",
            "\n",
            "           0     0.9130    0.9767    0.9438        43\n",
            "           1     0.6667    0.3333    0.4444         6\n",
            "\n",
            "    accuracy                         0.8980        49\n",
            "   macro avg     0.7899    0.6550    0.6941        49\n",
            "weighted avg     0.8829    0.8980    0.8827        49\n",
            "\n",
            "Precision:\n",
            " 0.6666666666666666\n",
            "Recall:\n",
            " 0.3333333333333333\n",
            "\n",
            " The best parameters across all the searched params:\n",
            " {'max_depth': None, 'max_features': 'log2', 'min_samples_leaf': 1, 'min_samples_split': 2, 'n_estimators': 100}\n"
          ]
        }
      ]
    },
    {
      "cell_type": "markdown",
      "source": [
        "**Random Forest provided a better balance between the precision and recall for class 1 it performs better than other classfiers**"
      ],
      "metadata": {
        "id": "VsOYHo51SvKA"
      }
    },
    {
      "cell_type": "markdown",
      "source": [
        "# 08) Use the XGBoost classifier (Goosting technique) and compare results with the previous five techniques"
      ],
      "metadata": {
        "id": "EwNyDAewSxPJ"
      }
    },
    {
      "cell_type": "code",
      "source": [
        "from xgboost import XGBClassifier\n",
        "xgb_classifier=XGBClassifier()\n",
        "xgb_classifier.fit(X_train,y_train)\n",
        "print_model_performance(xgb_classifier,X_test,y_test)"
      ],
      "metadata": {
        "colab": {
          "base_uri": "https://localhost:8080/"
        },
        "id": "ktAbCo9kS34E",
        "outputId": "de3c6fb1-a4fd-4026-a730-9796f9444941"
      },
      "execution_count": null,
      "outputs": [
        {
          "output_type": "stream",
          "name": "stdout",
          "text": [
            "Accuracy score:\n",
            " 0.8163265306122449\n",
            "Confusion matrix:\n",
            " [[39  4]\n",
            " [ 5  1]]\n",
            "Classification report:\n",
            "               precision    recall  f1-score   support\n",
            "\n",
            "           0     0.8864    0.9070    0.8966        43\n",
            "           1     0.2000    0.1667    0.1818         6\n",
            "\n",
            "    accuracy                         0.8163        49\n",
            "   macro avg     0.5432    0.5368    0.5392        49\n",
            "weighted avg     0.8023    0.8163    0.8090        49\n",
            "\n",
            "Precision:\n",
            " 0.2\n",
            "Recall:\n",
            " 0.16666666666666666\n"
          ]
        }
      ]
    },
    {
      "cell_type": "code",
      "source": [
        "from sklearn.model_selection import GridSearchCV, KFold\n",
        "from xgboost import XGBClassifier\n",
        "\n",
        "xgb_classifier=XGBClassifier()\n",
        "\n",
        "\n",
        "grid_values = {\n",
        "    'n_estimators': [50, 100, 200],\n",
        "    'max_depth': [None, 10, 20],\n",
        "    'min_samples_split': [2, 5, 10],\n",
        "    'min_samples_leaf': [1, 2, 4],\n",
        "    'max_features': ['auto', 'sqrt', 'log2']\n",
        "\n",
        "}\n",
        "\n",
        "cross_validation = KFold(n_splits=5, shuffle=True)\n",
        "xgbc_grid = GridSearchCV(xgb_classifier, param_grid=grid_values, cv=cross_validation, n_jobs=-1, scoring='f1_macro', verbose=1)\n",
        "\n",
        "desc = xgbc_grid.fit(X_train, y_train)\n",
        "print(desc)\n",
        "print_model_performance(xgbc_grid, X_test, y_test)\n",
        "\n",
        "print(\"\\n The best parameters across the all searched params:\\n\", xgbc_grid.best_params_)"
      ],
      "metadata": {
        "colab": {
          "base_uri": "https://localhost:8080/"
        },
        "id": "PNkXNUoZS9w6",
        "outputId": "b187b26b-45ec-4f3d-f527-d410f8371371"
      },
      "execution_count": null,
      "outputs": [
        {
          "output_type": "stream",
          "name": "stdout",
          "text": [
            "Fitting 5 folds for each of 243 candidates, totalling 1215 fits\n",
            "[16:21:56] WARNING: ../src/learner.cc:767: \n",
            "Parameters: { \"max_features\", \"min_samples_leaf\", \"min_samples_split\" } are not used.\n",
            "\n",
            "GridSearchCV(cv=KFold(n_splits=5, random_state=None, shuffle=True),\n",
            "             estimator=XGBClassifier(base_score=None, booster=None,\n",
            "                                     callbacks=None, colsample_bylevel=None,\n",
            "                                     colsample_bynode=None,\n",
            "                                     colsample_bytree=None,\n",
            "                                     early_stopping_rounds=None,\n",
            "                                     enable_categorical=False, eval_metric=None,\n",
            "                                     feature_types=None, gamma=None,\n",
            "                                     gpu_id=None, grow_policy=None,\n",
            "                                     importance_type=None,\n",
            "                                     i...\n",
            "                                     max_leaves=None, min_child_weight=None,\n",
            "                                     missing=nan, monotone_constraints=None,\n",
            "                                     n_estimators=100, n_jobs=None,\n",
            "                                     num_parallel_tree=None, predictor=None,\n",
            "                                     random_state=None, ...),\n",
            "             n_jobs=-1,\n",
            "             param_grid={'max_depth': [None, 10, 20],\n",
            "                         'max_features': ['auto', 'sqrt', 'log2'],\n",
            "                         'min_samples_leaf': [1, 2, 4],\n",
            "                         'min_samples_split': [2, 5, 10],\n",
            "                         'n_estimators': [50, 100, 200]},\n",
            "             scoring='f1_macro', verbose=1)\n",
            "Accuracy score:\n",
            " 0.8367346938775511\n",
            "Confusion matrix:\n",
            " [[40  3]\n",
            " [ 5  1]]\n",
            "Classification report:\n",
            "               precision    recall  f1-score   support\n",
            "\n",
            "           0     0.8889    0.9302    0.9091        43\n",
            "           1     0.2500    0.1667    0.2000         6\n",
            "\n",
            "    accuracy                         0.8367        49\n",
            "   macro avg     0.5694    0.5484    0.5545        49\n",
            "weighted avg     0.8107    0.8367    0.8223        49\n",
            "\n",
            "Precision:\n",
            " 0.25\n",
            "Recall:\n",
            " 0.16666666666666666\n",
            "\n",
            " The best parameters across the all searched params:\n",
            " {'max_depth': 10, 'max_features': 'auto', 'min_samples_leaf': 1, 'min_samples_split': 2, 'n_estimators': 200}\n"
          ]
        }
      ]
    },
    {
      "cell_type": "markdown",
      "source": [
        "**XGBoost had a moderate accuracy but struggled with precision and recall for Class 1, similar to Decision Tree.Randomforest provides a better performance**"
      ],
      "metadata": {
        "id": "KBjVu9SOTrjd"
      }
    }
  ]
}